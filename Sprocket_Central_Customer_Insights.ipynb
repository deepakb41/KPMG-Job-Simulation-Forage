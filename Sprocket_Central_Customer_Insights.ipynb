{
 "cells": [
  {
   "cell_type": "markdown",
   "id": "9a465a3e",
   "metadata": {},
   "source": [
    "# Introduction\n",
    "\n",
    "<img src=\"sprocket.png\" alt=\"company logo\" style=\"float: right; margin-left: 10px;\" />\n",
    "\n",
    "In this notebook, we'll be examining data from Sprocket Central Pty Ltd, an organization that specialising in high quality bikes and cycling accessories. They've shared an Excel file with us that contains three crucial pieces of information: details about their customers' demographics, their addresses and transactions made.\n",
    "\n",
    "Our task is to assess the quality of this data across several key dimensions: how accurate it is, whether it's complete, if it's consistent across different sections, how current the information is, its relevance to our goals, its validity, and whether each piece of information is unique. By doing so, our aim is to ensure the data is reliable enough for the marketing team to accurately identify and target potential top customers.\n",
    "\n",
    "We will thoroughly review each dataset to check for errors, gaps, inconsistencies, outdated information, and irrelevancies. This will help us to confirm that the information is correct, up to date, and applicable to our needs. Ultimately, this process will enable us to pinpoint which customers are most likely to be interested in buying Sprocket Central's bicycles, aiding the company in its growth efforts by focusing on the most promising leads.\n",
    "\n",
    "After cleaning the datasets, we will use this data to derive actionable insights into customer trends and behaviors. The main goal of our analysis is centered on the identification of high-value customers from a newly acquired customer list. These individuals, having no prior transactions with Sprocket Central, represent untapped potential for the company. By pinpointing the most promising leads—those who exhibit characteristics aligning with the company's successful customer profiles—we aim to strategically enhance Sprocket Central's growth and market presence through targeted marketing initiatives."
   ]
  },
  {
   "cell_type": "markdown",
   "id": "ece0e9ff",
   "metadata": {},
   "source": [
    "# Data Preprocessing"
   ]
  },
  {
   "cell_type": "markdown",
   "id": "027901af",
   "metadata": {},
   "source": [
    "## Customer Demographic\n",
    "\n",
    "In this section of our analysis, we will dive into the Customer Demographic dataset. This part of the assessment will involve a detailed examination of the data to ensure that customer profiles are accurately captured, including age, gender, past purchasing behavior, and other demographic details that are crucial for targeted marketing efforts."
   ]
  },
  {
   "cell_type": "code",
   "execution_count": 1,
   "id": "240ae361",
   "metadata": {},
   "outputs": [],
   "source": [
    "import pandas as pd\n",
    "import missingno as msno\n",
    "import matplotlib.pyplot as plt\n",
    "import seaborn as sns\n",
    "\n",
    "import numpy as np\n",
    "from datetime import datetime as dt"
   ]
  },
  {
   "cell_type": "code",
   "execution_count": 2,
   "id": "f73f6d81",
   "metadata": {},
   "outputs": [
    {
     "data": {
      "text/html": [
       "<div>\n",
       "<style scoped>\n",
       "    .dataframe tbody tr th:only-of-type {\n",
       "        vertical-align: middle;\n",
       "    }\n",
       "\n",
       "    .dataframe tbody tr th {\n",
       "        vertical-align: top;\n",
       "    }\n",
       "\n",
       "    .dataframe thead th {\n",
       "        text-align: right;\n",
       "    }\n",
       "</style>\n",
       "<table border=\"1\" class=\"dataframe\">\n",
       "  <thead>\n",
       "    <tr style=\"text-align: right;\">\n",
       "      <th></th>\n",
       "      <th>customer_id</th>\n",
       "      <th>first_name</th>\n",
       "      <th>last_name</th>\n",
       "      <th>gender</th>\n",
       "      <th>past_3_years_bike_related_purchases</th>\n",
       "      <th>DOB</th>\n",
       "      <th>job_title</th>\n",
       "      <th>job_industry_category</th>\n",
       "      <th>wealth_segment</th>\n",
       "      <th>deceased_indicator</th>\n",
       "      <th>default</th>\n",
       "      <th>owns_car</th>\n",
       "      <th>tenure</th>\n",
       "    </tr>\n",
       "  </thead>\n",
       "  <tbody>\n",
       "    <tr>\n",
       "      <th>0</th>\n",
       "      <td>1</td>\n",
       "      <td>Laraine</td>\n",
       "      <td>Medendorp</td>\n",
       "      <td>F</td>\n",
       "      <td>93</td>\n",
       "      <td>1953-10-12 00:00:00</td>\n",
       "      <td>Executive Secretary</td>\n",
       "      <td>Health</td>\n",
       "      <td>Mass Customer</td>\n",
       "      <td>N</td>\n",
       "      <td>\"'</td>\n",
       "      <td>Yes</td>\n",
       "      <td>11.0</td>\n",
       "    </tr>\n",
       "    <tr>\n",
       "      <th>1</th>\n",
       "      <td>2</td>\n",
       "      <td>Eli</td>\n",
       "      <td>Bockman</td>\n",
       "      <td>Male</td>\n",
       "      <td>81</td>\n",
       "      <td>1980-12-16 00:00:00</td>\n",
       "      <td>Administrative Officer</td>\n",
       "      <td>Financial Services</td>\n",
       "      <td>Mass Customer</td>\n",
       "      <td>N</td>\n",
       "      <td>&lt;script&gt;alert('hi')&lt;/script&gt;</td>\n",
       "      <td>Yes</td>\n",
       "      <td>16.0</td>\n",
       "    </tr>\n",
       "    <tr>\n",
       "      <th>2</th>\n",
       "      <td>3</td>\n",
       "      <td>Arlin</td>\n",
       "      <td>Dearle</td>\n",
       "      <td>Male</td>\n",
       "      <td>61</td>\n",
       "      <td>1954-01-20 00:00:00</td>\n",
       "      <td>Recruiting Manager</td>\n",
       "      <td>Property</td>\n",
       "      <td>Mass Customer</td>\n",
       "      <td>N</td>\n",
       "      <td>2018-02-01 00:00:00</td>\n",
       "      <td>Yes</td>\n",
       "      <td>15.0</td>\n",
       "    </tr>\n",
       "    <tr>\n",
       "      <th>3</th>\n",
       "      <td>4</td>\n",
       "      <td>Talbot</td>\n",
       "      <td>NaN</td>\n",
       "      <td>Male</td>\n",
       "      <td>33</td>\n",
       "      <td>1961-10-03 00:00:00</td>\n",
       "      <td>NaN</td>\n",
       "      <td>IT</td>\n",
       "      <td>Mass Customer</td>\n",
       "      <td>N</td>\n",
       "      <td>() { _; } &gt;_[$($())] { touch /tmp/blns.shellsh...</td>\n",
       "      <td>No</td>\n",
       "      <td>7.0</td>\n",
       "    </tr>\n",
       "    <tr>\n",
       "      <th>4</th>\n",
       "      <td>5</td>\n",
       "      <td>Sheila-kathryn</td>\n",
       "      <td>Calton</td>\n",
       "      <td>Female</td>\n",
       "      <td>56</td>\n",
       "      <td>1977-05-13 00:00:00</td>\n",
       "      <td>Senior Editor</td>\n",
       "      <td>NaN</td>\n",
       "      <td>Affluent Customer</td>\n",
       "      <td>N</td>\n",
       "      <td>NIL</td>\n",
       "      <td>Yes</td>\n",
       "      <td>8.0</td>\n",
       "    </tr>\n",
       "  </tbody>\n",
       "</table>\n",
       "</div>"
      ],
      "text/plain": [
       "   customer_id      first_name  last_name  gender  \\\n",
       "0            1         Laraine  Medendorp       F   \n",
       "1            2             Eli    Bockman    Male   \n",
       "2            3           Arlin     Dearle    Male   \n",
       "3            4          Talbot        NaN    Male   \n",
       "4            5  Sheila-kathryn     Calton  Female   \n",
       "\n",
       "   past_3_years_bike_related_purchases                  DOB  \\\n",
       "0                                   93  1953-10-12 00:00:00   \n",
       "1                                   81  1980-12-16 00:00:00   \n",
       "2                                   61  1954-01-20 00:00:00   \n",
       "3                                   33  1961-10-03 00:00:00   \n",
       "4                                   56  1977-05-13 00:00:00   \n",
       "\n",
       "                job_title job_industry_category     wealth_segment  \\\n",
       "0     Executive Secretary                Health      Mass Customer   \n",
       "1  Administrative Officer    Financial Services      Mass Customer   \n",
       "2      Recruiting Manager              Property      Mass Customer   \n",
       "3                     NaN                    IT      Mass Customer   \n",
       "4           Senior Editor                   NaN  Affluent Customer   \n",
       "\n",
       "  deceased_indicator                                            default  \\\n",
       "0                  N                                                 \"'   \n",
       "1                  N                       <script>alert('hi')</script>   \n",
       "2                  N                                2018-02-01 00:00:00   \n",
       "3                  N  () { _; } >_[$($())] { touch /tmp/blns.shellsh...   \n",
       "4                  N                                                NIL   \n",
       "\n",
       "  owns_car  tenure  \n",
       "0      Yes    11.0  \n",
       "1      Yes    16.0  \n",
       "2      Yes    15.0  \n",
       "3       No     7.0  \n",
       "4      Yes     8.0  "
      ]
     },
     "execution_count": 2,
     "metadata": {},
     "output_type": "execute_result"
    }
   ],
   "source": [
    "CustomerDemographic = pd.read_excel('data/KPMG_VI_New_raw_data_update_final.xlsx', \n",
    "                                    sheet_name='CustomerDemographic',\n",
    "                                    skiprows=1) \n",
    "CustomerDemographic.head()\n"
   ]
  },
  {
   "cell_type": "markdown",
   "id": "fecd9367",
   "metadata": {},
   "source": [
    "Below is a brief explanation of each variable in the **Customer Demographic** dataset:\n",
    "\n",
    "- `customer_id`: A unique identifier for each customer. \n",
    "- `first_name`: The customer's first name.\n",
    "- `last_name`: The customer's surname.\n",
    "- `gender`: The gender of the customer. \n",
    "- `past_3_years_bike_related_purchases`: Indicates the number of bike-related purchases made by the customer in the past three years.\n",
    "- `DOB`: Date of Birth of the customer, formatted as 'YYYY-MM-DD'.\n",
    "- `job_title`: The customer's job title at their workplace.\n",
    "- `job_industry_category`: The industry sector in which the customer works, such as 'Health', 'Financial Services', 'Property', 'IT', etc.\n",
    "- `wealth_segment`: Categorizes customers based on their wealth, with values like 'Mass Customer', 'Affluent Customer', etc., indicating spending power.\n",
    "- `deceased_indicator`: Indicates whether the customer is deceased ('N' for no, 'Y' for yes).\n",
    "- `default`: Contains miscellaneous or potentially incorrect data. Some entries may include scripting or nonsensical strings, suggesting data quality issues.\n",
    "- `owns_car`: Indicates whether the customer owns a car ('Yes' or 'No'), which can be relevant for market segmentation and targeting.\n",
    "- `tenure`: The number of years the customer has been associated with the company, represented in years. This can be indicative of customer loyalty or longevity of the relationship."
   ]
  },
  {
   "cell_type": "code",
   "execution_count": 3,
   "id": "f71d2a18",
   "metadata": {},
   "outputs": [
    {
     "name": "stdout",
     "output_type": "stream",
     "text": [
      "<class 'pandas.core.frame.DataFrame'>\n",
      "RangeIndex: 4000 entries, 0 to 3999\n",
      "Data columns (total 13 columns):\n",
      " #   Column                               Non-Null Count  Dtype  \n",
      "---  ------                               --------------  -----  \n",
      " 0   customer_id                          4000 non-null   int64  \n",
      " 1   first_name                           4000 non-null   object \n",
      " 2   last_name                            3875 non-null   object \n",
      " 3   gender                               4000 non-null   object \n",
      " 4   past_3_years_bike_related_purchases  4000 non-null   int64  \n",
      " 5   DOB                                  3913 non-null   object \n",
      " 6   job_title                            3494 non-null   object \n",
      " 7   job_industry_category                3344 non-null   object \n",
      " 8   wealth_segment                       4000 non-null   object \n",
      " 9   deceased_indicator                   4000 non-null   object \n",
      " 10  default                              3698 non-null   object \n",
      " 11  owns_car                             4000 non-null   object \n",
      " 12  tenure                               3913 non-null   float64\n",
      "dtypes: float64(1), int64(2), object(10)\n",
      "memory usage: 406.4+ KB\n"
     ]
    }
   ],
   "source": [
    "CustomerDemographic.info()"
   ]
  },
  {
   "cell_type": "markdown",
   "id": "cb4cac6c",
   "metadata": {},
   "source": [
    "This dataset summary reveals that the DataFrame consists of **4000** entries and **13** columns. Notably, there are missing values in columns such as `last_name`, `DOB`, `job_title`, `job_industry_category`, and `default`, necessitating data cleaning and imputation strategies to ensure comprehensive analysis. The data types range from integers and floats to objects, indicating a mix of numerical and categorical data. "
   ]
  },
  {
   "cell_type": "markdown",
   "id": "dade2a16",
   "metadata": {},
   "source": [
    "### Validity\n",
    "To ensure the **DOB** column accurately represents dates and facilitates date-based operations, it's essential to convert it to a datetime format."
   ]
  },
  {
   "cell_type": "code",
   "execution_count": 4,
   "id": "f2e2309d",
   "metadata": {},
   "outputs": [
    {
     "data": {
      "text/html": [
       "<div>\n",
       "<style scoped>\n",
       "    .dataframe tbody tr th:only-of-type {\n",
       "        vertical-align: middle;\n",
       "    }\n",
       "\n",
       "    .dataframe tbody tr th {\n",
       "        vertical-align: top;\n",
       "    }\n",
       "\n",
       "    .dataframe thead th {\n",
       "        text-align: right;\n",
       "    }\n",
       "</style>\n",
       "<table border=\"1\" class=\"dataframe\">\n",
       "  <thead>\n",
       "    <tr style=\"text-align: right;\">\n",
       "      <th></th>\n",
       "      <th>customer_id</th>\n",
       "      <th>first_name</th>\n",
       "      <th>last_name</th>\n",
       "      <th>gender</th>\n",
       "      <th>past_3_years_bike_related_purchases</th>\n",
       "      <th>DOB</th>\n",
       "      <th>job_title</th>\n",
       "      <th>job_industry_category</th>\n",
       "      <th>wealth_segment</th>\n",
       "      <th>deceased_indicator</th>\n",
       "      <th>default</th>\n",
       "      <th>owns_car</th>\n",
       "      <th>tenure</th>\n",
       "    </tr>\n",
       "  </thead>\n",
       "  <tbody>\n",
       "    <tr>\n",
       "      <th>33</th>\n",
       "      <td>34</td>\n",
       "      <td>Jephthah</td>\n",
       "      <td>Bachmann</td>\n",
       "      <td>U</td>\n",
       "      <td>59</td>\n",
       "      <td>1843-12-21</td>\n",
       "      <td>Legal Assistant</td>\n",
       "      <td>IT</td>\n",
       "      <td>Affluent Customer</td>\n",
       "      <td>N</td>\n",
       "      <td>NaN</td>\n",
       "      <td>No</td>\n",
       "      <td>20.0</td>\n",
       "    </tr>\n",
       "  </tbody>\n",
       "</table>\n",
       "</div>"
      ],
      "text/plain": [
       "    customer_id first_name last_name gender  \\\n",
       "33           34   Jephthah  Bachmann      U   \n",
       "\n",
       "    past_3_years_bike_related_purchases         DOB        job_title  \\\n",
       "33                                   59  1843-12-21  Legal Assistant   \n",
       "\n",
       "   job_industry_category     wealth_segment deceased_indicator default  \\\n",
       "33                    IT  Affluent Customer                  N     NaN   \n",
       "\n",
       "   owns_car  tenure  \n",
       "33       No    20.0  "
      ]
     },
     "execution_count": 4,
     "metadata": {},
     "output_type": "execute_result"
    }
   ],
   "source": [
    "string_values_mask = CustomerDemographic['DOB'].apply(lambda x: isinstance(x, str))\n",
    "\n",
    "# Filter the DataFrame to get the rows with string values in the 'DOB' column\n",
    "string_values_data = CustomerDemographic[string_values_mask]\n",
    "string_values_data"
   ]
  },
  {
   "cell_type": "markdown",
   "id": "168a4e01",
   "metadata": {},
   "source": [
    "Here the `DOB` (Date of Birth) column contains string representations of dates, which is not ideal for date-based operations. It contains a `DOB` value of `1843-12-21`, which is deemed unrealistic for the current customer dataset. These identified rows are subsequently dropped from the main DataFrame to maintain data integrity and consistency. Finally, the `DOB` column is converted to the datetime format."
   ]
  },
  {
   "cell_type": "code",
   "execution_count": 5,
   "id": "ffb4d4da",
   "metadata": {},
   "outputs": [],
   "source": [
    "# Drop the rows with string values\n",
    "CustomerDemographic = CustomerDemographic.drop(string_values_data.index)\n",
    "\n",
    "# Convert to Datetime \n",
    "CustomerDemographic['DOB'] = pd.to_datetime(CustomerDemographic['DOB'], errors='coerce')"
   ]
  },
  {
   "cell_type": "markdown",
   "id": "983b5a09",
   "metadata": {},
   "source": [
    "### Relevancy\n",
    "\n",
    "In this section we will determine the applicability of each piece of demographic information to the goal of identifying potential customers."
   ]
  },
  {
   "cell_type": "code",
   "execution_count": 6,
   "id": "29deaff5",
   "metadata": {},
   "outputs": [
    {
     "data": {
      "text/plain": [
       "default\n",
       "100                                       113\n",
       "1                                         112\n",
       "-1                                        111\n",
       "-100                                       99\n",
       "Ù¡Ù¢Ù£                                     53\n",
       "                                         ... \n",
       "testâ testâ«                               31\n",
       "/dev/null; touch /tmp/blns.fail ; echo     30\n",
       "âªâªtestâª                                 29\n",
       "ì¸ëë°í ë¥´                                 27\n",
       ",ãã»:*:ã»ãâ( â» Ï â» )ãã»:*:ã»ãâ           25\n",
       "Name: count, Length: 90, dtype: int64"
      ]
     },
     "execution_count": 6,
     "metadata": {},
     "output_type": "execute_result"
    }
   ],
   "source": [
    "CustomerDemographic['default'].value_counts()"
   ]
  },
  {
   "cell_type": "markdown",
   "id": "e2383e2b",
   "metadata": {},
   "source": [
    "The `default` field seems to contain irrelevant or incorrect data, which may not be necessary for the analysis. Therefore we will drop this column."
   ]
  },
  {
   "cell_type": "code",
   "execution_count": 7,
   "id": "d077be73",
   "metadata": {},
   "outputs": [],
   "source": [
    "# Drop irrelevant columns\n",
    "CustomerDemographic = CustomerDemographic.drop(['default'], axis=1)"
   ]
  },
  {
   "cell_type": "code",
   "execution_count": 8,
   "id": "744ba9af",
   "metadata": {},
   "outputs": [
    {
     "data": {
      "text/plain": [
       "deceased_indicator\n",
       "N    3997\n",
       "Y       2\n",
       "Name: count, dtype: int64"
      ]
     },
     "execution_count": 8,
     "metadata": {},
     "output_type": "execute_result"
    }
   ],
   "source": [
    "CustomerDemographic['deceased_indicator'].value_counts()"
   ]
  },
  {
   "cell_type": "markdown",
   "id": "82ff5c5e",
   "metadata": {},
   "source": [
    "The `deceased_indicator` variable variable does not contribute valuable information for the vast majority of the dataset, given that only 2 out of 4000 entries are marked as 'Y', indicating deceased customers. In the context of marketing and customer relationship management, focusing on living customers is paramount. Therefore, these 2 entries could be excluded from further analysis to ensure that marketing strategies and resources are directed towards engaging with and catering to the needs of the living customer base, thereby optimizing the effectiveness and efficiency of marketing efforts."
   ]
  },
  {
   "cell_type": "code",
   "execution_count": 9,
   "id": "92fcf1a9",
   "metadata": {},
   "outputs": [],
   "source": [
    "CustomerDemographic = CustomerDemographic[CustomerDemographic['deceased_indicator'] != 'Y']"
   ]
  },
  {
   "cell_type": "markdown",
   "id": "e4345c69",
   "metadata": {},
   "source": [
    "### Completeness\n",
    "\n",
    "In this stage of our analysis, we focus on assessing the completeness of our dataset to ensure that critical demographic information is fully captured."
   ]
  },
  {
   "cell_type": "code",
   "execution_count": 10,
   "id": "c4cc7e14",
   "metadata": {},
   "outputs": [
    {
     "data": {
      "text/plain": [
       "customer_id                              0\n",
       "first_name                               0\n",
       "last_name                              125\n",
       "gender                                   0\n",
       "past_3_years_bike_related_purchases      0\n",
       "DOB                                     87\n",
       "job_title                              506\n",
       "job_industry_category                  656\n",
       "wealth_segment                           0\n",
       "deceased_indicator                       0\n",
       "owns_car                                 0\n",
       "tenure                                  87\n",
       "dtype: int64"
      ]
     },
     "execution_count": 10,
     "metadata": {},
     "output_type": "execute_result"
    }
   ],
   "source": [
    "CustomerDemographic.isna().sum()"
   ]
  },
  {
   "cell_type": "code",
   "execution_count": 11,
   "id": "502fab2b",
   "metadata": {},
   "outputs": [
    {
     "data": {
      "text/html": [
       "<div>\n",
       "<style scoped>\n",
       "    .dataframe tbody tr th:only-of-type {\n",
       "        vertical-align: middle;\n",
       "    }\n",
       "\n",
       "    .dataframe tbody tr th {\n",
       "        vertical-align: top;\n",
       "    }\n",
       "\n",
       "    .dataframe thead th {\n",
       "        text-align: right;\n",
       "    }\n",
       "</style>\n",
       "<table border=\"1\" class=\"dataframe\">\n",
       "  <thead>\n",
       "    <tr style=\"text-align: right;\">\n",
       "      <th></th>\n",
       "      <th>customer_id</th>\n",
       "      <th>first_name</th>\n",
       "      <th>last_name</th>\n",
       "      <th>gender</th>\n",
       "      <th>past_3_years_bike_related_purchases</th>\n",
       "      <th>DOB</th>\n",
       "      <th>job_title</th>\n",
       "      <th>job_industry_category</th>\n",
       "      <th>wealth_segment</th>\n",
       "      <th>deceased_indicator</th>\n",
       "      <th>owns_car</th>\n",
       "      <th>tenure</th>\n",
       "    </tr>\n",
       "  </thead>\n",
       "  <tbody>\n",
       "    <tr>\n",
       "      <th>143</th>\n",
       "      <td>144</td>\n",
       "      <td>Jory</td>\n",
       "      <td>Barrabeale</td>\n",
       "      <td>U</td>\n",
       "      <td>71</td>\n",
       "      <td>NaT</td>\n",
       "      <td>Environmental Tech</td>\n",
       "      <td>IT</td>\n",
       "      <td>Mass Customer</td>\n",
       "      <td>N</td>\n",
       "      <td>No</td>\n",
       "      <td>NaN</td>\n",
       "    </tr>\n",
       "    <tr>\n",
       "      <th>167</th>\n",
       "      <td>168</td>\n",
       "      <td>Reggie</td>\n",
       "      <td>Broggetti</td>\n",
       "      <td>U</td>\n",
       "      <td>8</td>\n",
       "      <td>NaT</td>\n",
       "      <td>General Manager</td>\n",
       "      <td>IT</td>\n",
       "      <td>Affluent Customer</td>\n",
       "      <td>N</td>\n",
       "      <td>Yes</td>\n",
       "      <td>NaN</td>\n",
       "    </tr>\n",
       "    <tr>\n",
       "      <th>266</th>\n",
       "      <td>267</td>\n",
       "      <td>Edgar</td>\n",
       "      <td>Buckler</td>\n",
       "      <td>U</td>\n",
       "      <td>53</td>\n",
       "      <td>NaT</td>\n",
       "      <td>NaN</td>\n",
       "      <td>IT</td>\n",
       "      <td>High Net Worth</td>\n",
       "      <td>N</td>\n",
       "      <td>No</td>\n",
       "      <td>NaN</td>\n",
       "    </tr>\n",
       "    <tr>\n",
       "      <th>289</th>\n",
       "      <td>290</td>\n",
       "      <td>Giorgio</td>\n",
       "      <td>Kevane</td>\n",
       "      <td>U</td>\n",
       "      <td>42</td>\n",
       "      <td>NaT</td>\n",
       "      <td>Senior Sales Associate</td>\n",
       "      <td>IT</td>\n",
       "      <td>Mass Customer</td>\n",
       "      <td>N</td>\n",
       "      <td>No</td>\n",
       "      <td>NaN</td>\n",
       "    </tr>\n",
       "    <tr>\n",
       "      <th>450</th>\n",
       "      <td>451</td>\n",
       "      <td>Marlow</td>\n",
       "      <td>Flowerdew</td>\n",
       "      <td>U</td>\n",
       "      <td>37</td>\n",
       "      <td>NaT</td>\n",
       "      <td>Quality Control Specialist</td>\n",
       "      <td>IT</td>\n",
       "      <td>High Net Worth</td>\n",
       "      <td>N</td>\n",
       "      <td>No</td>\n",
       "      <td>NaN</td>\n",
       "    </tr>\n",
       "    <tr>\n",
       "      <th>...</th>\n",
       "      <td>...</td>\n",
       "      <td>...</td>\n",
       "      <td>...</td>\n",
       "      <td>...</td>\n",
       "      <td>...</td>\n",
       "      <td>...</td>\n",
       "      <td>...</td>\n",
       "      <td>...</td>\n",
       "      <td>...</td>\n",
       "      <td>...</td>\n",
       "      <td>...</td>\n",
       "      <td>...</td>\n",
       "    </tr>\n",
       "    <tr>\n",
       "      <th>3778</th>\n",
       "      <td>3779</td>\n",
       "      <td>Ulick</td>\n",
       "      <td>Daspar</td>\n",
       "      <td>U</td>\n",
       "      <td>68</td>\n",
       "      <td>NaT</td>\n",
       "      <td>NaN</td>\n",
       "      <td>IT</td>\n",
       "      <td>Affluent Customer</td>\n",
       "      <td>N</td>\n",
       "      <td>No</td>\n",
       "      <td>NaN</td>\n",
       "    </tr>\n",
       "    <tr>\n",
       "      <th>3882</th>\n",
       "      <td>3883</td>\n",
       "      <td>Nissa</td>\n",
       "      <td>Conrad</td>\n",
       "      <td>U</td>\n",
       "      <td>35</td>\n",
       "      <td>NaT</td>\n",
       "      <td>Legal Assistant</td>\n",
       "      <td>IT</td>\n",
       "      <td>Mass Customer</td>\n",
       "      <td>N</td>\n",
       "      <td>No</td>\n",
       "      <td>NaN</td>\n",
       "    </tr>\n",
       "    <tr>\n",
       "      <th>3930</th>\n",
       "      <td>3931</td>\n",
       "      <td>Kylie</td>\n",
       "      <td>Epine</td>\n",
       "      <td>U</td>\n",
       "      <td>19</td>\n",
       "      <td>NaT</td>\n",
       "      <td>NaN</td>\n",
       "      <td>IT</td>\n",
       "      <td>High Net Worth</td>\n",
       "      <td>N</td>\n",
       "      <td>Yes</td>\n",
       "      <td>NaN</td>\n",
       "    </tr>\n",
       "    <tr>\n",
       "      <th>3934</th>\n",
       "      <td>3935</td>\n",
       "      <td>Teodor</td>\n",
       "      <td>Alfonsini</td>\n",
       "      <td>U</td>\n",
       "      <td>72</td>\n",
       "      <td>NaT</td>\n",
       "      <td>NaN</td>\n",
       "      <td>IT</td>\n",
       "      <td>High Net Worth</td>\n",
       "      <td>N</td>\n",
       "      <td>Yes</td>\n",
       "      <td>NaN</td>\n",
       "    </tr>\n",
       "    <tr>\n",
       "      <th>3997</th>\n",
       "      <td>3998</td>\n",
       "      <td>Sarene</td>\n",
       "      <td>Woolley</td>\n",
       "      <td>U</td>\n",
       "      <td>60</td>\n",
       "      <td>NaT</td>\n",
       "      <td>Assistant Manager</td>\n",
       "      <td>IT</td>\n",
       "      <td>High Net Worth</td>\n",
       "      <td>N</td>\n",
       "      <td>No</td>\n",
       "      <td>NaN</td>\n",
       "    </tr>\n",
       "  </tbody>\n",
       "</table>\n",
       "<p>87 rows × 12 columns</p>\n",
       "</div>"
      ],
      "text/plain": [
       "      customer_id first_name   last_name gender  \\\n",
       "143           144       Jory  Barrabeale      U   \n",
       "167           168     Reggie   Broggetti      U   \n",
       "266           267      Edgar     Buckler      U   \n",
       "289           290    Giorgio      Kevane      U   \n",
       "450           451     Marlow   Flowerdew      U   \n",
       "...           ...        ...         ...    ...   \n",
       "3778         3779      Ulick      Daspar      U   \n",
       "3882         3883      Nissa      Conrad      U   \n",
       "3930         3931      Kylie       Epine      U   \n",
       "3934         3935     Teodor   Alfonsini      U   \n",
       "3997         3998     Sarene     Woolley      U   \n",
       "\n",
       "      past_3_years_bike_related_purchases DOB                   job_title  \\\n",
       "143                                    71 NaT          Environmental Tech   \n",
       "167                                     8 NaT             General Manager   \n",
       "266                                    53 NaT                         NaN   \n",
       "289                                    42 NaT      Senior Sales Associate   \n",
       "450                                    37 NaT  Quality Control Specialist   \n",
       "...                                   ...  ..                         ...   \n",
       "3778                                   68 NaT                         NaN   \n",
       "3882                                   35 NaT             Legal Assistant   \n",
       "3930                                   19 NaT                         NaN   \n",
       "3934                                   72 NaT                         NaN   \n",
       "3997                                   60 NaT           Assistant Manager   \n",
       "\n",
       "     job_industry_category     wealth_segment deceased_indicator owns_car  \\\n",
       "143                     IT      Mass Customer                  N       No   \n",
       "167                     IT  Affluent Customer                  N      Yes   \n",
       "266                     IT     High Net Worth                  N       No   \n",
       "289                     IT      Mass Customer                  N       No   \n",
       "450                     IT     High Net Worth                  N       No   \n",
       "...                    ...                ...                ...      ...   \n",
       "3778                    IT  Affluent Customer                  N       No   \n",
       "3882                    IT      Mass Customer                  N       No   \n",
       "3930                    IT     High Net Worth                  N      Yes   \n",
       "3934                    IT     High Net Worth                  N      Yes   \n",
       "3997                    IT     High Net Worth                  N       No   \n",
       "\n",
       "      tenure  \n",
       "143      NaN  \n",
       "167      NaN  \n",
       "266      NaN  \n",
       "289      NaN  \n",
       "450      NaN  \n",
       "...      ...  \n",
       "3778     NaN  \n",
       "3882     NaN  \n",
       "3930     NaN  \n",
       "3934     NaN  \n",
       "3997     NaN  \n",
       "\n",
       "[87 rows x 12 columns]"
      ]
     },
     "execution_count": 11,
     "metadata": {},
     "output_type": "execute_result"
    }
   ],
   "source": [
    "CustomerDemographic[CustomerDemographic['DOB'].isna()& CustomerDemographic['tenure'].isna()]"
   ]
  },
  {
   "cell_type": "markdown",
   "id": "867e48f4",
   "metadata": {},
   "source": [
    "The pattern observed in the CustomerDemographic DataFrame, where both `DOB` (Date of Birth) and `tenure` are missing exclusively for rows where the gender is marked as 'U' (presumably standing for 'Unknown'), suggests that the missingness is not at random **(MNAR - Missing Not At Random)**. It indicates a systematic issue related to the data collection or entry process, particularly concerning customers whose gender has not been specified or is unknown. We will deal with this issue later on in this section."
   ]
  },
  {
   "cell_type": "markdown",
   "id": "004cb0ec",
   "metadata": {},
   "source": [
    "We will create dynamic mapping for missing `job_industry_category` values based on the unique combinations of `job_title` present within the data. This method involves first filtering out records with no missing values in these two fields, then grouping the remaining data by job title and assigning each title a corresponding industry category. The resulting dictionary serves as a reference to impute missing job industry categories, leveraging the observed relationship between job titles and industry sectors."
   ]
  },
  {
   "cell_type": "code",
   "execution_count": 12,
   "id": "b8aba09b",
   "metadata": {},
   "outputs": [],
   "source": [
    "mapping = CustomerDemographic.dropna(subset=['job_title', 'job_industry_category']).groupby('job_title')['job_industry_category'].unique().apply(lambda x: x[0]).to_dict()\n",
    "\n",
    "# Fill missing values based on the dynamic mapping\n",
    "CustomerDemographic['job_industry_category'] = CustomerDemographic['job_industry_category'].fillna(CustomerDemographic['job_title'].map(mapping))\n"
   ]
  },
  {
   "cell_type": "markdown",
   "id": "3b8819ec",
   "metadata": {},
   "source": [
    "We will now impute the missing values in the `job_title` column by considering both the `job_industry_category` and `wealth_segment` of the customers. This process involves identifying the most common `job_title` within each combination of `job_industry_category` and `wealth_segment`. We create a mapping from each unique combination to its corresponding prevalent `job_title`. Then, we apply this mapping to fill in the missing `job_title` entries, ensuring that the imputed job titles are aligned with the respective industry category and wealth segment."
   ]
  },
  {
   "cell_type": "code",
   "execution_count": 13,
   "id": "9a6de79f",
   "metadata": {},
   "outputs": [],
   "source": [
    "# Group by 'job_industry_category' and 'wealth_segment' to calculate the most common job title for each group\n",
    "most_common_job_per_category_segment = CustomerDemographic.groupby(['job_industry_category', \n",
    "                                                                    'wealth_segment'])['job_title'].agg(lambda x: x.value_counts().idxmax() if not x.value_counts().empty else np.nan)\n",
    "\n",
    "# Create a dictionary mapping ('job_industry_category', 'wealth_segment') to its corresponding most common job title\n",
    "most_common_job_title_mapping = {index: job_title for index, job_title in most_common_job_per_category_segment.items()}\n",
    "\n",
    "# Create a mask for rows where 'job_title' is missing\n",
    "missing_job_title_mask = CustomerDemographic['job_title'].isnull()\n",
    "\n",
    "# Use the 'job_industry_category' and 'wealth_segment' of each missing value to impute the most common job title\n",
    "CustomerDemographic.loc[missing_job_title_mask, 'job_title'] = CustomerDemographic.loc[missing_job_title_mask, ['job_industry_category', 'wealth_segment']].apply(lambda x: most_common_job_title_mapping.get((x['job_industry_category'], x['wealth_segment']), np.nan), axis=1)"
   ]
  },
  {
   "cell_type": "code",
   "execution_count": 14,
   "id": "e33a8854",
   "metadata": {},
   "outputs": [
    {
     "data": {
      "text/plain": [
       "customer_id                              0\n",
       "first_name                               0\n",
       "last_name                              125\n",
       "gender                                   0\n",
       "past_3_years_bike_related_purchases      0\n",
       "DOB                                     87\n",
       "job_title                              105\n",
       "job_industry_category                  105\n",
       "wealth_segment                           0\n",
       "deceased_indicator                       0\n",
       "owns_car                                 0\n",
       "tenure                                  87\n",
       "dtype: int64"
      ]
     },
     "execution_count": 14,
     "metadata": {},
     "output_type": "execute_result"
    }
   ],
   "source": [
    "CustomerDemographic.isna().sum()"
   ]
  },
  {
   "cell_type": "markdown",
   "id": "acd00fd9",
   "metadata": {},
   "source": [
    "After the imputation process, the dataset still exhibits certain missing values across different columns:\n",
    "\n",
    "- **87 rows** have both missing `DOB` and `tenure`.\n",
    "- **105 rows** have both missing `job_title` and `job_industry_category`.\n",
    "- **125 rows** are missing `last names`.\n",
    "\n",
    "Leaving the missing last names as is can be justified because customers can still be uniquely identified and profiled using other available information in the dataset, such as customer ID, first name, and additional demographic details.\n",
    "\n",
    "The rows with both missing `DOB` and `tenure` and the rows with both missing `job_title` and `job_industry_category` will be deleted. This decision is made with the understanding that while deleting data can lead to a loss of information, in this context, these rows contribute to a relatively small percentage of the total dataset. Specifically, the **87 rows** with missing `DOB` and `tenure` represent approximately **2.18%** of the dataset, and the **105 rows** with missing `job_title` and `job_industry_category` account for roughly **2.63%**. Although the removal of these records will slightly reduce the dataset size, it is expected that the overall impact on the analysis will be minimal compared to the potential biases and inaccuracies introduced by attempting to impute or retain these significantly incomplete records. This approach ensures that the remaining dataset is more robust and reliable for further analysis and insights generation.\n"
   ]
  },
  {
   "cell_type": "code",
   "execution_count": 15,
   "id": "971775b2",
   "metadata": {},
   "outputs": [
    {
     "data": {
      "text/plain": [
       "(3805, 12)"
      ]
     },
     "execution_count": 15,
     "metadata": {},
     "output_type": "execute_result"
    }
   ],
   "source": [
    "# Deleting rows with missing DOB\n",
    "CustomerDemographic = CustomerDemographic.dropna(subset=['DOB'])\n",
    "\n",
    "# Deleting rows with both missing job_title and job_industry_category\n",
    "CustomerDemographic = CustomerDemographic.dropna(subset=['job_title'])\n",
    "\n",
    "# Display the shape of the DataFrame after deletion to confirm the number of remaining rows and columns\n",
    "CustomerDemographic.shape"
   ]
  },
  {
   "cell_type": "markdown",
   "id": "6e00c899",
   "metadata": {},
   "source": [
    "### Uniqueness\n",
    "\n",
    "In this section, we examine the uniqueness of the data within the CustomerDemographic DataFrame by identifying duplicate entries."
   ]
  },
  {
   "cell_type": "code",
   "execution_count": 16,
   "id": "e54835ef",
   "metadata": {},
   "outputs": [
    {
     "data": {
      "text/html": [
       "<div>\n",
       "<style scoped>\n",
       "    .dataframe tbody tr th:only-of-type {\n",
       "        vertical-align: middle;\n",
       "    }\n",
       "\n",
       "    .dataframe tbody tr th {\n",
       "        vertical-align: top;\n",
       "    }\n",
       "\n",
       "    .dataframe thead th {\n",
       "        text-align: right;\n",
       "    }\n",
       "</style>\n",
       "<table border=\"1\" class=\"dataframe\">\n",
       "  <thead>\n",
       "    <tr style=\"text-align: right;\">\n",
       "      <th></th>\n",
       "      <th>customer_id</th>\n",
       "      <th>first_name</th>\n",
       "      <th>last_name</th>\n",
       "      <th>gender</th>\n",
       "      <th>past_3_years_bike_related_purchases</th>\n",
       "      <th>DOB</th>\n",
       "      <th>job_title</th>\n",
       "      <th>job_industry_category</th>\n",
       "      <th>wealth_segment</th>\n",
       "      <th>deceased_indicator</th>\n",
       "      <th>owns_car</th>\n",
       "      <th>tenure</th>\n",
       "    </tr>\n",
       "  </thead>\n",
       "  <tbody>\n",
       "  </tbody>\n",
       "</table>\n",
       "</div>"
      ],
      "text/plain": [
       "Empty DataFrame\n",
       "Columns: [customer_id, first_name, last_name, gender, past_3_years_bike_related_purchases, DOB, job_title, job_industry_category, wealth_segment, deceased_indicator, owns_car, tenure]\n",
       "Index: []"
      ]
     },
     "execution_count": 16,
     "metadata": {},
     "output_type": "execute_result"
    }
   ],
   "source": [
    "# Get duplicate rows\n",
    "CustomerDemographic[CustomerDemographic.duplicated(keep = False)]"
   ]
  },
  {
   "cell_type": "markdown",
   "id": "22a6b4e6",
   "metadata": {},
   "source": [
    "### Accuracy\n",
    "\n",
    "In this section, we focus on enhancing the accuracy of the CustomerDemographic dataset."
   ]
  },
  {
   "cell_type": "code",
   "execution_count": 17,
   "id": "5b664f3c",
   "metadata": {},
   "outputs": [
    {
     "data": {
      "text/plain": [
       "gender\n",
       "Female    1975\n",
       "Male      1827\n",
       "F            1\n",
       "Femal        1\n",
       "M            1\n",
       "Name: count, dtype: int64"
      ]
     },
     "execution_count": 17,
     "metadata": {},
     "output_type": "execute_result"
    }
   ],
   "source": [
    "CustomerDemographic['gender'].value_counts()"
   ]
  },
  {
   "cell_type": "markdown",
   "id": "8c9e6227",
   "metadata": {},
   "source": [
    "The initial analysis reveals inconsistencies in gender representation, with multiple labels such as 'F', 'Femal', 'M', etc., referring to the same gender categories. We will map the diverse gender labels to standardized 'Female' and 'Male' categories."
   ]
  },
  {
   "cell_type": "code",
   "execution_count": 18,
   "id": "8ac3cdf2",
   "metadata": {},
   "outputs": [],
   "source": [
    "# Standardize 'Gender' labels\n",
    "gender_mapping = {\n",
    "    'F': 'Female',\n",
    "    'Femal': 'Female',\n",
    "    'Female': 'Female',\n",
    "    'M': 'Male',\n",
    "    'Male': 'Male',\n",
    "}\n",
    "CustomerDemographic['gender'] = CustomerDemographic['gender'].map(gender_mapping)"
   ]
  },
  {
   "cell_type": "code",
   "execution_count": 19,
   "id": "647906a7",
   "metadata": {
    "scrolled": true
   },
   "outputs": [
    {
     "data": {
      "image/png": "[encoded data removed]",
      "text/plain": [
       "<Figure size 1200x600 with 2 Axes>"
      ]
     },
     "metadata": {},
     "output_type": "display_data"
    }
   ],
   "source": [
    "# Create a figure and a set of subplots\n",
    "fig, ax = plt.subplots(1, 2, figsize=(12, 6)) \n",
    "\n",
    "# Box plot for bike-related purchases on the first subplot\n",
    "sns.boxplot(x=CustomerDemographic['past_3_years_bike_related_purchases'], ax=ax[0])\n",
    "ax[0].set_title('Box Plot of Bike-Related Purchases')\n",
    "ax[0].set_xlabel('Bike-Related Purchases in the Past 3 Years')\n",
    "\n",
    "# Box plot for tenure on the second subplot\n",
    "sns.boxplot(x=CustomerDemographic['tenure'], ax=ax[1])\n",
    "ax[1].set_title('Box Plot of Tenure')\n",
    "ax[1].set_xlabel('Tenure (years)')\n",
    "\n",
    "# Adjust layout to prevent overlap\n",
    "plt.tight_layout()\n",
    "\n",
    "# Show the plot\n",
    "plt.show()\n"
   ]
  },
  {
   "cell_type": "markdown",
   "id": "fa9d4bf9",
   "metadata": {},
   "source": [
    "**Bike-Related Purchases:** The box plot seems fairly symmetrical, suggesting a relatively uniform distribution of purchases. There don't appear to be any extreme outliers, which indicates that the data for bike-related purchases is likely clean and well-distributed.\n",
    "\n",
    "**Tenure:** The box plot shows a concentration of data towards the lower range of tenure years, with fewer customers having a longer tenure."
   ]
  },
  {
   "cell_type": "code",
   "execution_count": 20,
   "id": "b4af2448",
   "metadata": {},
   "outputs": [
    {
     "data": {
      "image/png": "[encoded data removed]",
      "text/plain": [
       "<Figure size 800x1000 with 2 Axes>"
      ]
     },
     "metadata": {},
     "output_type": "display_data"
    }
   ],
   "source": [
    "# Create a figure and axes for 2 subplots\n",
    "fig, ax = plt.subplots(2, 1, figsize=(8, 10))\n",
    "\n",
    "# Count plot for wealth segment on the first subplot\n",
    "sns.countplot(data=CustomerDemographic, x='wealth_segment', ax=ax[0])\n",
    "ax[0].set_title('Distribution of Wealth Segment')\n",
    "ax[0].set_ylabel('Count')\n",
    "ax[0].set_xlabel('')\n",
    "\n",
    "# Count plot for job industry category on the second subplot\n",
    "sns.countplot(data=CustomerDemographic, x='job_industry_category', ax=ax[1])\n",
    "ax[1].set_title('Distribution of Job Industry Categories')\n",
    "ax[1].set_ylabel('Count')\n",
    "ax[1].set_xlabel('')\n",
    "ax[1].set_xticklabels(ax[1].get_xticklabels(), rotation=45)\n",
    "\n",
    "# Adjust layout to prevent overlap\n",
    "plt.tight_layout()\n",
    "\n",
    "# Show the plot\n",
    "plt.show()\n"
   ]
  },
  {
   "cell_type": "markdown",
   "id": "1b9bb030",
   "metadata": {},
   "source": [
    "**Wealth Segment:** The distribution shows that _Mass Customer_ is the most common wealth segment, followed by _Affluent Customer_ and _High Net Worth_. There are no apparent anomalies in this distribution, but the uneven counts may suggest a need to ensure marketing strategies are tailored to the proportions of each segment.\n",
    "\n",
    "**Job Industry Category:** There is significant variation in the number of customers across different job industry categories. _Manufacturing_ and _Financial Services_ are particularly well-represented, whereas _Telecommunications_ has very few entries."
   ]
  },
  {
   "cell_type": "code",
   "execution_count": 21,
   "id": "cfec98d7",
   "metadata": {},
   "outputs": [
    {
     "data": {
      "text/plain": [
       "owns_car\n",
       "Yes    1928\n",
       "No     1877\n",
       "Name: count, dtype: int64"
      ]
     },
     "execution_count": 21,
     "metadata": {},
     "output_type": "execute_result"
    }
   ],
   "source": [
    "CustomerDemographic['owns_car'].value_counts()"
   ]
  },
  {
   "cell_type": "code",
   "execution_count": 22,
   "id": "ebdc1fac",
   "metadata": {},
   "outputs": [
    {
     "data": {
      "text/plain": [
       "job_title\n",
       "Sales Representative        91\n",
       "Chemical Engineer           86\n",
       "Social Worker               78\n",
       "Senior Financial Analyst    74\n",
       "Recruiting Manager          66\n",
       "                            ..\n",
       "Programmer Analyst IV        4\n",
       "Health Coach III             3\n",
       "Health Coach I               3\n",
       "Research Assistant III       3\n",
       "Developer I                  1\n",
       "Name: count, Length: 195, dtype: int64"
      ]
     },
     "execution_count": 22,
     "metadata": {},
     "output_type": "execute_result"
    }
   ],
   "source": [
    "CustomerDemographic['job_title'].value_counts()"
   ]
  },
  {
   "cell_type": "markdown",
   "id": "38c1f581",
   "metadata": {},
   "source": [
    "The value counts for the `owns_car` attribute indicate a nearly even split between customers who own a car and those who do not, which suggests that car ownership may not be a distinguishing factor in customer segmentation. As for the `job_title` attribute, the significant variety among job titles, with a few titles like _Sales Representative_ and _Chemical Engineer_ appearing more frequently, implies a diverse customer base. It might be beneficial to categorize these job titles into broader industry groups to simplify analysis and identify more robust trends.\n",
    "\n",
    "We have completed a comprehensive data quality assessment of the Customer Demographic dataset from Sprocket Central Pty Ltd. The data has been cleaned for accuracy, completeness, consistency, and relevance, ensuring it is primed for effective analysis. Although minor discrepancies were addressed, the dataset is now reliable for the marketing team to identify and target potential top customers successfully."
   ]
  },
  {
   "cell_type": "markdown",
   "id": "c2a6797c",
   "metadata": {},
   "source": [
    "## Customer Address\n",
    "\n",
    "We will apply a similar meticulous approach to this dataset, scrutinizing it through the same rigorous data quality dimensions. This consistent methodology will ensure that all datasets used in our analysis meet the high standards required for informed decision-making."
   ]
  },
  {
   "cell_type": "code",
   "execution_count": 23,
   "id": "b39ef220",
   "metadata": {},
   "outputs": [
    {
     "data": {
      "text/html": [
       "<div>\n",
       "<style scoped>\n",
       "    .dataframe tbody tr th:only-of-type {\n",
       "        vertical-align: middle;\n",
       "    }\n",
       "\n",
       "    .dataframe tbody tr th {\n",
       "        vertical-align: top;\n",
       "    }\n",
       "\n",
       "    .dataframe thead th {\n",
       "        text-align: right;\n",
       "    }\n",
       "</style>\n",
       "<table border=\"1\" class=\"dataframe\">\n",
       "  <thead>\n",
       "    <tr style=\"text-align: right;\">\n",
       "      <th></th>\n",
       "      <th>customer_id</th>\n",
       "      <th>address</th>\n",
       "      <th>postcode</th>\n",
       "      <th>state</th>\n",
       "      <th>country</th>\n",
       "      <th>property_valuation</th>\n",
       "    </tr>\n",
       "  </thead>\n",
       "  <tbody>\n",
       "    <tr>\n",
       "      <th>0</th>\n",
       "      <td>1</td>\n",
       "      <td>060 Morning Avenue</td>\n",
       "      <td>2016</td>\n",
       "      <td>New South Wales</td>\n",
       "      <td>Australia</td>\n",
       "      <td>10</td>\n",
       "    </tr>\n",
       "    <tr>\n",
       "      <th>1</th>\n",
       "      <td>2</td>\n",
       "      <td>6 Meadow Vale Court</td>\n",
       "      <td>2153</td>\n",
       "      <td>New South Wales</td>\n",
       "      <td>Australia</td>\n",
       "      <td>10</td>\n",
       "    </tr>\n",
       "    <tr>\n",
       "      <th>2</th>\n",
       "      <td>4</td>\n",
       "      <td>0 Holy Cross Court</td>\n",
       "      <td>4211</td>\n",
       "      <td>QLD</td>\n",
       "      <td>Australia</td>\n",
       "      <td>9</td>\n",
       "    </tr>\n",
       "    <tr>\n",
       "      <th>3</th>\n",
       "      <td>5</td>\n",
       "      <td>17979 Del Mar Point</td>\n",
       "      <td>2448</td>\n",
       "      <td>New South Wales</td>\n",
       "      <td>Australia</td>\n",
       "      <td>4</td>\n",
       "    </tr>\n",
       "    <tr>\n",
       "      <th>4</th>\n",
       "      <td>6</td>\n",
       "      <td>9 Oakridge Court</td>\n",
       "      <td>3216</td>\n",
       "      <td>VIC</td>\n",
       "      <td>Australia</td>\n",
       "      <td>9</td>\n",
       "    </tr>\n",
       "  </tbody>\n",
       "</table>\n",
       "</div>"
      ],
      "text/plain": [
       "   customer_id              address  postcode            state    country  \\\n",
       "0            1   060 Morning Avenue      2016  New South Wales  Australia   \n",
       "1            2  6 Meadow Vale Court      2153  New South Wales  Australia   \n",
       "2            4   0 Holy Cross Court      4211              QLD  Australia   \n",
       "3            5  17979 Del Mar Point      2448  New South Wales  Australia   \n",
       "4            6     9 Oakridge Court      3216              VIC  Australia   \n",
       "\n",
       "   property_valuation  \n",
       "0                  10  \n",
       "1                  10  \n",
       "2                   9  \n",
       "3                   4  \n",
       "4                   9  "
      ]
     },
     "execution_count": 23,
     "metadata": {},
     "output_type": "execute_result"
    }
   ],
   "source": [
    "CustomerAddress = pd.read_excel('data/KPMG_VI_New_raw_data_update_final.xlsx', \n",
    "                                    sheet_name='CustomerAddress',\n",
    "                                    skiprows=1) \n",
    "CustomerAddress.head()"
   ]
  },
  {
   "cell_type": "code",
   "execution_count": 24,
   "id": "495bbed1",
   "metadata": {},
   "outputs": [
    {
     "name": "stdout",
     "output_type": "stream",
     "text": [
      "<class 'pandas.core.frame.DataFrame'>\n",
      "RangeIndex: 3999 entries, 0 to 3998\n",
      "Data columns (total 6 columns):\n",
      " #   Column              Non-Null Count  Dtype \n",
      "---  ------              --------------  ----- \n",
      " 0   customer_id         3999 non-null   int64 \n",
      " 1   address             3999 non-null   object\n",
      " 2   postcode            3999 non-null   int64 \n",
      " 3   state               3999 non-null   object\n",
      " 4   country             3999 non-null   object\n",
      " 5   property_valuation  3999 non-null   int64 \n",
      "dtypes: int64(3), object(3)\n",
      "memory usage: 187.6+ KB\n"
     ]
    }
   ],
   "source": [
    "CustomerAddress.info()"
   ]
  },
  {
   "cell_type": "markdown",
   "id": "3a90fc86",
   "metadata": {},
   "source": [
    "The Customer Address dataset comprises 3999 entries and 6 columns:\n",
    "\n",
    "- `customer_id`: A unique identifier for each customer.\n",
    "- `address`: The customer's residential address.\n",
    "- `postcode`: The postal code associated with the customer's address.\n",
    "- `state`: The state or territory where the customer resides.\n",
    "- `country`: The country where the customer resides (all entries are Australia in this dataset).\n",
    "- `property_valuation`: Indicates the valuation of the customer's property, ranging from 1 to 12.\n",
    "\n",
    "\n",
    "The dataset provides essential information about customer addresses, enabling geographical analysis and targeted marketing strategies.\n"
   ]
  },
  {
   "cell_type": "code",
   "execution_count": 25,
   "id": "c895f195",
   "metadata": {},
   "outputs": [
    {
     "data": {
      "text/plain": [
       "customer_id           0\n",
       "address               0\n",
       "postcode              0\n",
       "state                 0\n",
       "country               0\n",
       "property_valuation    0\n",
       "dtype: int64"
      ]
     },
     "execution_count": 25,
     "metadata": {},
     "output_type": "execute_result"
    }
   ],
   "source": [
    "# Check for missing data\n",
    "CustomerAddress.isna().sum()"
   ]
  },
  {
   "cell_type": "code",
   "execution_count": 26,
   "id": "53f3a585",
   "metadata": {},
   "outputs": [
    {
     "data": {
      "text/html": [
       "<div>\n",
       "<style scoped>\n",
       "    .dataframe tbody tr th:only-of-type {\n",
       "        vertical-align: middle;\n",
       "    }\n",
       "\n",
       "    .dataframe tbody tr th {\n",
       "        vertical-align: top;\n",
       "    }\n",
       "\n",
       "    .dataframe thead th {\n",
       "        text-align: right;\n",
       "    }\n",
       "</style>\n",
       "<table border=\"1\" class=\"dataframe\">\n",
       "  <thead>\n",
       "    <tr style=\"text-align: right;\">\n",
       "      <th></th>\n",
       "      <th>customer_id</th>\n",
       "      <th>address</th>\n",
       "      <th>postcode</th>\n",
       "      <th>state</th>\n",
       "      <th>country</th>\n",
       "      <th>property_valuation</th>\n",
       "    </tr>\n",
       "  </thead>\n",
       "  <tbody>\n",
       "  </tbody>\n",
       "</table>\n",
       "</div>"
      ],
      "text/plain": [
       "Empty DataFrame\n",
       "Columns: [customer_id, address, postcode, state, country, property_valuation]\n",
       "Index: []"
      ]
     },
     "execution_count": 26,
     "metadata": {},
     "output_type": "execute_result"
    }
   ],
   "source": [
    "# Get duplicate rows\n",
    "duplicates = CustomerAddress.duplicated(keep = False)\n",
    "CustomerAddress[duplicates]"
   ]
  },
  {
   "cell_type": "code",
   "execution_count": 27,
   "id": "011b024b",
   "metadata": {},
   "outputs": [
    {
     "data": {
      "text/plain": [
       "{3, 10, 22, 23}"
      ]
     },
     "execution_count": 27,
     "metadata": {},
     "output_type": "execute_result"
    }
   ],
   "source": [
    "# Check for missing customer IDs (compared to CustomerDemographic dataset)\n",
    "\n",
    "# Generate a list of customer IDs from 1 to 4000\n",
    "customer_ids_range = list(range(1, 4001))\n",
    "\n",
    "# Check which customer IDs are not present in the DataFrame\n",
    "missing_customer_ids = set(customer_ids_range) - set(CustomerAddress['customer_id'])\n",
    "missing_customer_ids"
   ]
  },
  {
   "cell_type": "code",
   "execution_count": 28,
   "id": "4290c6be",
   "metadata": {},
   "outputs": [
    {
     "data": {
      "text/html": [
       "<div>\n",
       "<style scoped>\n",
       "    .dataframe tbody tr th:only-of-type {\n",
       "        vertical-align: middle;\n",
       "    }\n",
       "\n",
       "    .dataframe tbody tr th {\n",
       "        vertical-align: top;\n",
       "    }\n",
       "\n",
       "    .dataframe thead th {\n",
       "        text-align: right;\n",
       "    }\n",
       "</style>\n",
       "<table border=\"1\" class=\"dataframe\">\n",
       "  <thead>\n",
       "    <tr style=\"text-align: right;\">\n",
       "      <th></th>\n",
       "      <th>customer_id</th>\n",
       "      <th>address</th>\n",
       "      <th>postcode</th>\n",
       "      <th>state</th>\n",
       "      <th>country</th>\n",
       "      <th>property_valuation</th>\n",
       "    </tr>\n",
       "  </thead>\n",
       "  <tbody>\n",
       "  </tbody>\n",
       "</table>\n",
       "</div>"
      ],
      "text/plain": [
       "Empty DataFrame\n",
       "Columns: [customer_id, address, postcode, state, country, property_valuation]\n",
       "Index: []"
      ]
     },
     "execution_count": 28,
     "metadata": {},
     "output_type": "execute_result"
    }
   ],
   "source": [
    "# Check for invalid postcodes\n",
    "CustomerAddress[CustomerAddress['postcode'].astype(str).str.len() != 4]"
   ]
  },
  {
   "cell_type": "code",
   "execution_count": 29,
   "id": "090a296b",
   "metadata": {},
   "outputs": [
    {
     "data": {
      "text/plain": [
       "state\n",
       "NSW                2054\n",
       "VIC                 939\n",
       "QLD                 838\n",
       "New South Wales      86\n",
       "Victoria             82\n",
       "Name: count, dtype: int64"
      ]
     },
     "execution_count": 29,
     "metadata": {},
     "output_type": "execute_result"
    }
   ],
   "source": [
    "# Check for inconsistent labels\n",
    "CustomerAddress['state'].value_counts()"
   ]
  },
  {
   "cell_type": "code",
   "execution_count": 30,
   "id": "e1185d4c",
   "metadata": {},
   "outputs": [],
   "source": [
    "# Standardize 'state' labels\n",
    "state_mapping = {\n",
    "    'New South Wales': 'NSW',\n",
    "    'Victoria': 'VIC',\n",
    "    'NSW': 'NSW',\n",
    "    'VIC': 'VIC',\n",
    "    'QLD': 'QLD'\n",
    "}\n",
    "CustomerAddress['state'] = CustomerAddress['state'].map(state_mapping)"
   ]
  },
  {
   "cell_type": "code",
   "execution_count": 31,
   "id": "485c3a56",
   "metadata": {},
   "outputs": [
    {
     "data": {
      "text/plain": [
       "country\n",
       "Australia    3999\n",
       "Name: count, dtype: int64"
      ]
     },
     "execution_count": 31,
     "metadata": {},
     "output_type": "execute_result"
    }
   ],
   "source": [
    "CustomerAddress['country'].value_counts()"
   ]
  },
  {
   "cell_type": "code",
   "execution_count": 32,
   "id": "17a3ecbc",
   "metadata": {},
   "outputs": [
    {
     "data": {
      "text/plain": [
       "count    3999.000000\n",
       "mean        7.514379\n",
       "std         2.824663\n",
       "min         1.000000\n",
       "25%         6.000000\n",
       "50%         8.000000\n",
       "75%        10.000000\n",
       "max        12.000000\n",
       "Name: property_valuation, dtype: float64"
      ]
     },
     "execution_count": 32,
     "metadata": {},
     "output_type": "execute_result"
    }
   ],
   "source": [
    "CustomerAddress['property_valuation'].describe()"
   ]
  },
  {
   "cell_type": "markdown",
   "id": "c4640680",
   "metadata": {},
   "source": [
    "**Key Findings:**\n",
    "- The dataset is complete with no missing values in any of the columns.\n",
    "- No duplicate entries were found, indicating a clean dataset.\n",
    "- Four customer IDs (**3, 10, 22, and 23**) are missing from the dataset, indicating a lack of corresponding address information for these customers.\n",
    "- The '**state**' column contains variations such as '**New South Wales**' and '**Victoria**', which have been standardized to '**NSW**' and '**VIC**' respectively for consistency.\n",
    "- All entries in the '**country**' column indicate '**Australia**', suggesting that the dataset pertains exclusively to customers within Australia.\n",
    "- Property valuations range from **1** to **12**, with a mean valuation of approximately **7.51**, suggesting a varied distribution of property values among customers.\n"
   ]
  },
  {
   "cell_type": "markdown",
   "id": "1f05e05d",
   "metadata": {},
   "source": [
    "## Transactions\n",
    "\n",
    "We will conduct a comprehensive data quality assessment on the Transactions dataset, following the same rigorous methodology used in previous sections. "
   ]
  },
  {
   "cell_type": "code",
   "execution_count": 33,
   "id": "2a118c02",
   "metadata": {},
   "outputs": [
    {
     "data": {
      "text/html": [
       "<div>\n",
       "<style scoped>\n",
       "    .dataframe tbody tr th:only-of-type {\n",
       "        vertical-align: middle;\n",
       "    }\n",
       "\n",
       "    .dataframe tbody tr th {\n",
       "        vertical-align: top;\n",
       "    }\n",
       "\n",
       "    .dataframe thead th {\n",
       "        text-align: right;\n",
       "    }\n",
       "</style>\n",
       "<table border=\"1\" class=\"dataframe\">\n",
       "  <thead>\n",
       "    <tr style=\"text-align: right;\">\n",
       "      <th></th>\n",
       "      <th>transaction_id</th>\n",
       "      <th>product_id</th>\n",
       "      <th>customer_id</th>\n",
       "      <th>transaction_date</th>\n",
       "      <th>online_order</th>\n",
       "      <th>order_status</th>\n",
       "      <th>brand</th>\n",
       "      <th>product_line</th>\n",
       "      <th>product_class</th>\n",
       "      <th>product_size</th>\n",
       "      <th>list_price</th>\n",
       "      <th>standard_cost</th>\n",
       "      <th>product_first_sold_date</th>\n",
       "    </tr>\n",
       "  </thead>\n",
       "  <tbody>\n",
       "    <tr>\n",
       "      <th>0</th>\n",
       "      <td>1</td>\n",
       "      <td>2</td>\n",
       "      <td>2950</td>\n",
       "      <td>2017-02-25</td>\n",
       "      <td>0.0</td>\n",
       "      <td>Approved</td>\n",
       "      <td>Solex</td>\n",
       "      <td>Standard</td>\n",
       "      <td>medium</td>\n",
       "      <td>medium</td>\n",
       "      <td>71.49</td>\n",
       "      <td>53.62</td>\n",
       "      <td>41245.0</td>\n",
       "    </tr>\n",
       "    <tr>\n",
       "      <th>1</th>\n",
       "      <td>2</td>\n",
       "      <td>3</td>\n",
       "      <td>3120</td>\n",
       "      <td>2017-05-21</td>\n",
       "      <td>1.0</td>\n",
       "      <td>Approved</td>\n",
       "      <td>Trek Bicycles</td>\n",
       "      <td>Standard</td>\n",
       "      <td>medium</td>\n",
       "      <td>large</td>\n",
       "      <td>2091.47</td>\n",
       "      <td>388.92</td>\n",
       "      <td>41701.0</td>\n",
       "    </tr>\n",
       "    <tr>\n",
       "      <th>2</th>\n",
       "      <td>3</td>\n",
       "      <td>37</td>\n",
       "      <td>402</td>\n",
       "      <td>2017-10-16</td>\n",
       "      <td>0.0</td>\n",
       "      <td>Approved</td>\n",
       "      <td>OHM Cycles</td>\n",
       "      <td>Standard</td>\n",
       "      <td>low</td>\n",
       "      <td>medium</td>\n",
       "      <td>1793.43</td>\n",
       "      <td>248.82</td>\n",
       "      <td>36361.0</td>\n",
       "    </tr>\n",
       "    <tr>\n",
       "      <th>3</th>\n",
       "      <td>4</td>\n",
       "      <td>88</td>\n",
       "      <td>3135</td>\n",
       "      <td>2017-08-31</td>\n",
       "      <td>0.0</td>\n",
       "      <td>Approved</td>\n",
       "      <td>Norco Bicycles</td>\n",
       "      <td>Standard</td>\n",
       "      <td>medium</td>\n",
       "      <td>medium</td>\n",
       "      <td>1198.46</td>\n",
       "      <td>381.10</td>\n",
       "      <td>36145.0</td>\n",
       "    </tr>\n",
       "    <tr>\n",
       "      <th>4</th>\n",
       "      <td>5</td>\n",
       "      <td>78</td>\n",
       "      <td>787</td>\n",
       "      <td>2017-10-01</td>\n",
       "      <td>1.0</td>\n",
       "      <td>Approved</td>\n",
       "      <td>Giant Bicycles</td>\n",
       "      <td>Standard</td>\n",
       "      <td>medium</td>\n",
       "      <td>large</td>\n",
       "      <td>1765.30</td>\n",
       "      <td>709.48</td>\n",
       "      <td>42226.0</td>\n",
       "    </tr>\n",
       "  </tbody>\n",
       "</table>\n",
       "</div>"
      ],
      "text/plain": [
       "   transaction_id  product_id  customer_id transaction_date  online_order  \\\n",
       "0               1           2         2950       2017-02-25           0.0   \n",
       "1               2           3         3120       2017-05-21           1.0   \n",
       "2               3          37          402       2017-10-16           0.0   \n",
       "3               4          88         3135       2017-08-31           0.0   \n",
       "4               5          78          787       2017-10-01           1.0   \n",
       "\n",
       "  order_status           brand product_line product_class product_size  \\\n",
       "0     Approved           Solex     Standard        medium       medium   \n",
       "1     Approved   Trek Bicycles     Standard        medium        large   \n",
       "2     Approved      OHM Cycles     Standard           low       medium   \n",
       "3     Approved  Norco Bicycles     Standard        medium       medium   \n",
       "4     Approved  Giant Bicycles     Standard        medium        large   \n",
       "\n",
       "   list_price  standard_cost  product_first_sold_date  \n",
       "0       71.49          53.62                  41245.0  \n",
       "1     2091.47         388.92                  41701.0  \n",
       "2     1793.43         248.82                  36361.0  \n",
       "3     1198.46         381.10                  36145.0  \n",
       "4     1765.30         709.48                  42226.0  "
      ]
     },
     "execution_count": 33,
     "metadata": {},
     "output_type": "execute_result"
    }
   ],
   "source": [
    "Transactions = pd.read_excel('data/KPMG_VI_New_raw_data_update_final.xlsx', \n",
    "                                    sheet_name='Transactions',\n",
    "                                    skiprows=1) \n",
    "Transactions.head()"
   ]
  },
  {
   "cell_type": "code",
   "execution_count": 34,
   "id": "7214d460",
   "metadata": {},
   "outputs": [
    {
     "name": "stdout",
     "output_type": "stream",
     "text": [
      "<class 'pandas.core.frame.DataFrame'>\n",
      "RangeIndex: 20000 entries, 0 to 19999\n",
      "Data columns (total 13 columns):\n",
      " #   Column                   Non-Null Count  Dtype         \n",
      "---  ------                   --------------  -----         \n",
      " 0   transaction_id           20000 non-null  int64         \n",
      " 1   product_id               20000 non-null  int64         \n",
      " 2   customer_id              20000 non-null  int64         \n",
      " 3   transaction_date         20000 non-null  datetime64[ns]\n",
      " 4   online_order             19640 non-null  float64       \n",
      " 5   order_status             20000 non-null  object        \n",
      " 6   brand                    19803 non-null  object        \n",
      " 7   product_line             19803 non-null  object        \n",
      " 8   product_class            19803 non-null  object        \n",
      " 9   product_size             19803 non-null  object        \n",
      " 10  list_price               20000 non-null  float64       \n",
      " 11  standard_cost            19803 non-null  float64       \n",
      " 12  product_first_sold_date  19803 non-null  float64       \n",
      "dtypes: datetime64[ns](1), float64(4), int64(3), object(5)\n",
      "memory usage: 2.0+ MB\n"
     ]
    }
   ],
   "source": [
    "Transactions.info()"
   ]
  },
  {
   "cell_type": "markdown",
   "id": "ed5efcaf",
   "metadata": {},
   "source": [
    "The Transactions dataset comprises 20,000 entries and 13 columns:\n",
    "\n",
    "- `transaction_id`: A unique identifier for each transaction.\n",
    "- `product_id`: The identifier for the product involved in the transaction.\n",
    "- `customer_id`: The unique identifier for each customer involved in the transaction.\n",
    "- `transaction_date`: The date when the transaction occurred, stored in datetime format.\n",
    "- `online_order`: Indicates whether the order was placed online (1.0 for online, 0.0 for offline).\n",
    "- `order_status`: The status of the order (e.g., Approved, Cancelled).\n",
    "- `brand`: The brand of the product involved in the transaction.\n",
    "- `product_line`: The product line/category to which the product belongs.\n",
    "- `product_class`: Indicates the class/category of the product.\n",
    "- `product_size`: The size of the product.\n",
    "- `list_price`: The listed price of the product.\n",
    "- `standard_cost`: The standard cost of the product.\n",
    "- `product_first_sold_date`: The date when the product was first sold.\n",
    "This dataset provides detailed information about each transaction, including product details, customer involvement, transaction specifics, and pricing information."
   ]
  },
  {
   "cell_type": "markdown",
   "id": "b03cf617",
   "metadata": {},
   "source": [
    "In the Transactions dataset, the column `product_first_sold_date` is expected to contain dates but instead contains numerical values. As this column does not provide relevant date information in its current form, it can be removed from the dataset."
   ]
  },
  {
   "cell_type": "code",
   "execution_count": 35,
   "id": "2eff79e0",
   "metadata": {},
   "outputs": [],
   "source": [
    "# Drop 'product_first_sold_date' column\n",
    "Transactions = Transactions.drop(['product_first_sold_date'], axis=1)"
   ]
  },
  {
   "cell_type": "markdown",
   "id": "620ccda5",
   "metadata": {},
   "source": [
    "We will be excluding rows where the order status is **'Cancelled'**. Cancelled transactions usually indicate that the sale did not go through for some reason, rendering the associated data less useful for analysis. By removing these rows, we ensure that our analysis focuses on valid transactions, leading to more accurate insights and conclusions."
   ]
  },
  {
   "cell_type": "code",
   "execution_count": 36,
   "id": "fe119544",
   "metadata": {},
   "outputs": [],
   "source": [
    "# Filter out rows where transactions are canceled\n",
    "Transactions = Transactions[Transactions['order_status'] != 'Cancelled']\n"
   ]
  },
  {
   "cell_type": "code",
   "execution_count": 37,
   "id": "efe8ad30",
   "metadata": {},
   "outputs": [
    {
     "data": {
      "text/plain": [
       "transaction_id        0\n",
       "product_id            0\n",
       "customer_id           0\n",
       "transaction_date      0\n",
       "online_order        354\n",
       "order_status          0\n",
       "brand               196\n",
       "product_line        196\n",
       "product_class       196\n",
       "product_size        196\n",
       "list_price            0\n",
       "standard_cost       196\n",
       "dtype: int64"
      ]
     },
     "execution_count": 37,
     "metadata": {},
     "output_type": "execute_result"
    }
   ],
   "source": [
    "# Missing values\n",
    "Transactions.isna().sum()"
   ]
  },
  {
   "cell_type": "code",
   "execution_count": 38,
   "id": "f278fc64",
   "metadata": {},
   "outputs": [
    {
     "name": "stdout",
     "output_type": "stream",
     "text": [
      "No. of missing rows (all with product id:0) =  196\n",
      "No. of rows with product_id:0 =  1371\n"
     ]
    }
   ],
   "source": [
    "# Rows with missing 'product_line' and 'product_id' = 0\n",
    "print('No. of missing rows (all with product id:0) = ', len(Transactions[(Transactions['product_id']==0) & (Transactions['product_line'].isna())]))\n",
    "print('No. of rows with product_id:0 = ', len(Transactions[Transactions['product_id']==0]))"
   ]
  },
  {
   "cell_type": "markdown",
   "id": "fdd1ea8f",
   "metadata": {},
   "source": [
    "The dataset reveals an intriguing pattern: 196 rows exhibit missing values for the columns `brand`, `product_line`, `product_class`, `product_size`, and `standard_cost`. Notably, these missing values are consistently associated with entries where the `product_id` is 0. However, it's noteworthy that 1175 rows with a `product_id` of 0 do contain data for these columns. This discrepancy suggests a potential inconsistency or data entry issue specifically affecting rows with a `product_id` of 0.\n",
    "\n",
    "\n",
    "Considering that there's no reliable way to retrieve the missing information for the affected rows, and dropping them won't significantly impact the dataset due to their relatively small proportion, we have decided to proceed by dropping these rows."
   ]
  },
  {
   "cell_type": "code",
   "execution_count": 39,
   "id": "41b4e08c",
   "metadata": {},
   "outputs": [],
   "source": [
    "# Remove rows with missing data\n",
    "Transactions = Transactions[~Transactions['product_line'].isna()]"
   ]
  },
  {
   "cell_type": "code",
   "execution_count": 40,
   "id": "5539bdb2",
   "metadata": {},
   "outputs": [
    {
     "name": "stdout",
     "output_type": "stream",
     "text": [
      "1.85% of the total revenue is from transactions with missing online order information.\n"
     ]
    }
   ],
   "source": [
    "missing_revenue = (Transactions[Transactions['online_order'].isna()]['list_price'].sum()/Transactions['list_price'].sum())*100\n",
    "print(f'{missing_revenue:.2f}% of the total revenue is from transactions with missing online order information.')"
   ]
  },
  {
   "cell_type": "markdown",
   "id": "bb2989f9",
   "metadata": {},
   "source": [
    "As only **1.85%** of the total revenue originates from transactions with missing online order information. To maintain data reliability, rows with missing online order data will be removed from the dataset."
   ]
  },
  {
   "cell_type": "code",
   "execution_count": 41,
   "id": "fe39739e",
   "metadata": {},
   "outputs": [],
   "source": [
    "# Removing rows with missing 'online_order'\n",
    "Transactions = Transactions[~Transactions['online_order'].isna()]"
   ]
  },
  {
   "cell_type": "code",
   "execution_count": 42,
   "id": "def3429c",
   "metadata": {},
   "outputs": [
    {
     "data": {
      "text/html": [
       "<div>\n",
       "<style scoped>\n",
       "    .dataframe tbody tr th:only-of-type {\n",
       "        vertical-align: middle;\n",
       "    }\n",
       "\n",
       "    .dataframe tbody tr th {\n",
       "        vertical-align: top;\n",
       "    }\n",
       "\n",
       "    .dataframe thead th {\n",
       "        text-align: right;\n",
       "    }\n",
       "</style>\n",
       "<table border=\"1\" class=\"dataframe\">\n",
       "  <thead>\n",
       "    <tr style=\"text-align: right;\">\n",
       "      <th></th>\n",
       "      <th>transaction_id</th>\n",
       "      <th>product_id</th>\n",
       "      <th>customer_id</th>\n",
       "      <th>transaction_date</th>\n",
       "      <th>online_order</th>\n",
       "      <th>order_status</th>\n",
       "      <th>brand</th>\n",
       "      <th>product_line</th>\n",
       "      <th>product_class</th>\n",
       "      <th>product_size</th>\n",
       "      <th>list_price</th>\n",
       "      <th>standard_cost</th>\n",
       "    </tr>\n",
       "  </thead>\n",
       "  <tbody>\n",
       "  </tbody>\n",
       "</table>\n",
       "</div>"
      ],
      "text/plain": [
       "Empty DataFrame\n",
       "Columns: [transaction_id, product_id, customer_id, transaction_date, online_order, order_status, brand, product_line, product_class, product_size, list_price, standard_cost]\n",
       "Index: []"
      ]
     },
     "execution_count": 42,
     "metadata": {},
     "output_type": "execute_result"
    }
   ],
   "source": [
    "# Get duplicate rows\n",
    "duplicates = Transactions.duplicated()\n",
    "Transactions[duplicates]"
   ]
  },
  {
   "cell_type": "code",
   "execution_count": 43,
   "id": "224a616e",
   "metadata": {},
   "outputs": [
    {
     "data": {
      "image/png": "[encoded data removed]",
      "text/plain": [
       "<Figure size 1200x1000 with 4 Axes>"
      ]
     },
     "metadata": {},
     "output_type": "display_data"
    }
   ],
   "source": [
    "# Plotting graphs for data quality assessment\n",
    "fig, axs = plt.subplots(2, 2, figsize=(12, 10))\n",
    "\n",
    "# Brand Distribution\n",
    "sns.countplot(x='brand', data=Transactions, ax=axs[0, 0])\n",
    "axs[0, 0].set_title('Brand Distribution')\n",
    "axs[0, 0].tick_params(axis='x', rotation=45) \n",
    "\n",
    "# Product Line Distribution\n",
    "sns.countplot(x='product_line', data=Transactions, ax=axs[0, 1])\n",
    "axs[0, 1].set_title('Product Line Distribution')\n",
    "\n",
    "# Product Class Distribution\n",
    "sns.countplot(x='product_class', data=Transactions, ax=axs[1, 0])\n",
    "axs[1, 0].set_title('Product Class Distribution')\n",
    "\n",
    "# Product Size Distribution\n",
    "sns.countplot(x='product_size', data=Transactions, ax=axs[1, 1])\n",
    "axs[1, 1].set_title('Product Size Distribution')\n",
    "\n",
    "plt.tight_layout()  \n",
    "plt.show()\n"
   ]
  },
  {
   "cell_type": "markdown",
   "id": "89e491be",
   "metadata": {},
   "source": [
    "**Brand Distribution:** The dataset encompasses a variety of brands, with each brand contributing to the overall transactions. This diversity is crucial for a robust analysis as it covers a broad spectrum of products.\n",
    "\n",
    "**Product Line Distribution:** The 'Standard' product line dominates the dataset, which suggests that most products fall into this category. Other product lines such as 'Road', 'Touring', and 'Mountain' are less frequent but still present, offering insights into different market segments.\n",
    "\n",
    "**Product Class Distribution:** The 'medium' class is the most common, indicating that the majority of products fall into this middle range in terms of features or quality. The 'high' and 'low' classes are less represented but provide essential data points for understanding market dynamics.\n",
    "\n",
    "**Product Size Distribution:** The distribution of product sizes ('medium', 'large', 'small') provides insights into customer preferences and inventory composition."
   ]
  },
  {
   "cell_type": "code",
   "execution_count": 44,
   "id": "6396bf5f",
   "metadata": {},
   "outputs": [
    {
     "data": {
      "image/png": "[encoded data removed]",
      "text/plain": [
       "<Figure size 1000x600 with 2 Axes>"
      ]
     },
     "metadata": {},
     "output_type": "display_data"
    }
   ],
   "source": [
    "# Box plots for 'list_price' and 'standard_cost'\n",
    "fig, axs = plt.subplots(1, 2, figsize=(10, 6))\n",
    "\n",
    "# Box plot for 'list_price'\n",
    "sns.boxplot(y=Transactions['list_price'], ax=axs[0])\n",
    "axs[0].set_title('Box Plot of List Price')\n",
    "axs[0].set_ylabel('List Price')\n",
    "\n",
    "# Box plot for 'standard_cost'\n",
    "sns.boxplot(y=Transactions['standard_cost'], ax=axs[1])\n",
    "axs[1].set_title('Box Plot of Standard Cost')\n",
    "axs[1].set_ylabel('Standard Cost')\n",
    "\n",
    "plt.tight_layout()\n",
    "plt.show()\n"
   ]
  },
  {
   "cell_type": "markdown",
   "id": "813881d6",
   "metadata": {},
   "source": [
    "In the **Standard Cost** box plot, there is at least one outlier above the upper whisker, which is a standard cost that is unusually high compared to the rest of the dataset. The maximum **Standard Cost**, despite being an outlier, does not exceed the **List Price**, which suggests that even though the cost is high, it is still within a range where the product is profitable. Therefore, the decision could be to keep the outlier as part of the dataset, as it does not misrepresent the cost structure and could provide insights into the higher end of the production cost spectrum.\n",
    "\n",
    "The data is now clean and primed for further analysis and modelling. We can move to data modelling and transformation with confidence, knowing that our foundation is robust."
   ]
  },
  {
   "cell_type": "markdown",
   "id": "4bc86052",
   "metadata": {},
   "source": [
    "# Data Modelling and Transformation\n",
    "\n",
    "In this section we will merge and transform the clean datasets to extract actionable intelligence.\n",
    "\n",
    "Our first step involves merging the Customer Demographic and Customer Address datasets. This merger is facilitated by the `customer_id` field, a unique identifier for each customer, ensuring that demographic information is accurately aligned with the corresponding address data.\n",
    "\n",
    "By combining these datasets, we create a comprehensive view of each customer's demographic profile alongside their geographic information, enriching our analysis base.\n"
   ]
  },
  {
   "cell_type": "code",
   "execution_count": 45,
   "id": "003f05a7",
   "metadata": {},
   "outputs": [
    {
     "data": {
      "text/html": [
       "<div>\n",
       "<style scoped>\n",
       "    .dataframe tbody tr th:only-of-type {\n",
       "        vertical-align: middle;\n",
       "    }\n",
       "\n",
       "    .dataframe tbody tr th {\n",
       "        vertical-align: top;\n",
       "    }\n",
       "\n",
       "    .dataframe thead th {\n",
       "        text-align: right;\n",
       "    }\n",
       "</style>\n",
       "<table border=\"1\" class=\"dataframe\">\n",
       "  <thead>\n",
       "    <tr style=\"text-align: right;\">\n",
       "      <th></th>\n",
       "      <th>customer_id</th>\n",
       "      <th>first_name</th>\n",
       "      <th>last_name</th>\n",
       "      <th>gender</th>\n",
       "      <th>past_3_years_bike_related_purchases</th>\n",
       "      <th>DOB</th>\n",
       "      <th>job_title</th>\n",
       "      <th>job_industry_category</th>\n",
       "      <th>wealth_segment</th>\n",
       "      <th>deceased_indicator</th>\n",
       "      <th>owns_car</th>\n",
       "      <th>tenure</th>\n",
       "      <th>address</th>\n",
       "      <th>postcode</th>\n",
       "      <th>state</th>\n",
       "      <th>country</th>\n",
       "      <th>property_valuation</th>\n",
       "    </tr>\n",
       "  </thead>\n",
       "  <tbody>\n",
       "    <tr>\n",
       "      <th>0</th>\n",
       "      <td>1</td>\n",
       "      <td>Laraine</td>\n",
       "      <td>Medendorp</td>\n",
       "      <td>Female</td>\n",
       "      <td>93</td>\n",
       "      <td>1953-10-12</td>\n",
       "      <td>Executive Secretary</td>\n",
       "      <td>Health</td>\n",
       "      <td>Mass Customer</td>\n",
       "      <td>N</td>\n",
       "      <td>Yes</td>\n",
       "      <td>11.0</td>\n",
       "      <td>060 Morning Avenue</td>\n",
       "      <td>2016</td>\n",
       "      <td>NSW</td>\n",
       "      <td>Australia</td>\n",
       "      <td>10</td>\n",
       "    </tr>\n",
       "    <tr>\n",
       "      <th>1</th>\n",
       "      <td>2</td>\n",
       "      <td>Eli</td>\n",
       "      <td>Bockman</td>\n",
       "      <td>Male</td>\n",
       "      <td>81</td>\n",
       "      <td>1980-12-16</td>\n",
       "      <td>Administrative Officer</td>\n",
       "      <td>Financial Services</td>\n",
       "      <td>Mass Customer</td>\n",
       "      <td>N</td>\n",
       "      <td>Yes</td>\n",
       "      <td>16.0</td>\n",
       "      <td>6 Meadow Vale Court</td>\n",
       "      <td>2153</td>\n",
       "      <td>NSW</td>\n",
       "      <td>Australia</td>\n",
       "      <td>10</td>\n",
       "    </tr>\n",
       "    <tr>\n",
       "      <th>2</th>\n",
       "      <td>4</td>\n",
       "      <td>Talbot</td>\n",
       "      <td>NaN</td>\n",
       "      <td>Male</td>\n",
       "      <td>33</td>\n",
       "      <td>1961-10-03</td>\n",
       "      <td>Internal Auditor</td>\n",
       "      <td>IT</td>\n",
       "      <td>Mass Customer</td>\n",
       "      <td>N</td>\n",
       "      <td>No</td>\n",
       "      <td>7.0</td>\n",
       "      <td>0 Holy Cross Court</td>\n",
       "      <td>4211</td>\n",
       "      <td>QLD</td>\n",
       "      <td>Australia</td>\n",
       "      <td>9</td>\n",
       "    </tr>\n",
       "    <tr>\n",
       "      <th>3</th>\n",
       "      <td>5</td>\n",
       "      <td>Sheila-kathryn</td>\n",
       "      <td>Calton</td>\n",
       "      <td>Female</td>\n",
       "      <td>56</td>\n",
       "      <td>1977-05-13</td>\n",
       "      <td>Senior Editor</td>\n",
       "      <td>Retail</td>\n",
       "      <td>Affluent Customer</td>\n",
       "      <td>N</td>\n",
       "      <td>Yes</td>\n",
       "      <td>8.0</td>\n",
       "      <td>17979 Del Mar Point</td>\n",
       "      <td>2448</td>\n",
       "      <td>NSW</td>\n",
       "      <td>Australia</td>\n",
       "      <td>4</td>\n",
       "    </tr>\n",
       "    <tr>\n",
       "      <th>4</th>\n",
       "      <td>6</td>\n",
       "      <td>Curr</td>\n",
       "      <td>Duckhouse</td>\n",
       "      <td>Male</td>\n",
       "      <td>35</td>\n",
       "      <td>1966-09-16</td>\n",
       "      <td>Sales Representative</td>\n",
       "      <td>Retail</td>\n",
       "      <td>High Net Worth</td>\n",
       "      <td>N</td>\n",
       "      <td>Yes</td>\n",
       "      <td>13.0</td>\n",
       "      <td>9 Oakridge Court</td>\n",
       "      <td>3216</td>\n",
       "      <td>VIC</td>\n",
       "      <td>Australia</td>\n",
       "      <td>9</td>\n",
       "    </tr>\n",
       "  </tbody>\n",
       "</table>\n",
       "</div>"
      ],
      "text/plain": [
       "   customer_id      first_name  last_name  gender  \\\n",
       "0            1         Laraine  Medendorp  Female   \n",
       "1            2             Eli    Bockman    Male   \n",
       "2            4          Talbot        NaN    Male   \n",
       "3            5  Sheila-kathryn     Calton  Female   \n",
       "4            6            Curr  Duckhouse    Male   \n",
       "\n",
       "   past_3_years_bike_related_purchases        DOB               job_title  \\\n",
       "0                                   93 1953-10-12     Executive Secretary   \n",
       "1                                   81 1980-12-16  Administrative Officer   \n",
       "2                                   33 1961-10-03        Internal Auditor   \n",
       "3                                   56 1977-05-13           Senior Editor   \n",
       "4                                   35 1966-09-16    Sales Representative   \n",
       "\n",
       "  job_industry_category     wealth_segment deceased_indicator owns_car  \\\n",
       "0                Health      Mass Customer                  N      Yes   \n",
       "1    Financial Services      Mass Customer                  N      Yes   \n",
       "2                    IT      Mass Customer                  N       No   \n",
       "3                Retail  Affluent Customer                  N      Yes   \n",
       "4                Retail     High Net Worth                  N      Yes   \n",
       "\n",
       "   tenure              address  postcode state    country  property_valuation  \n",
       "0    11.0   060 Morning Avenue      2016   NSW  Australia                  10  \n",
       "1    16.0  6 Meadow Vale Court      2153   NSW  Australia                  10  \n",
       "2     7.0   0 Holy Cross Court      4211   QLD  Australia                   9  \n",
       "3     8.0  17979 Del Mar Point      2448   NSW  Australia                   4  \n",
       "4    13.0     9 Oakridge Court      3216   VIC  Australia                   9  "
      ]
     },
     "execution_count": 45,
     "metadata": {},
     "output_type": "execute_result"
    }
   ],
   "source": [
    "# Merge Customer Demographic and Customer Address\n",
    "merged_df = CustomerDemographic.merge(CustomerAddress, on = 'customer_id')\n",
    "merged_df.head()"
   ]
  },
  {
   "cell_type": "code",
   "execution_count": 46,
   "id": "52800e82",
   "metadata": {},
   "outputs": [],
   "source": [
    "# Convert DOB to Age\n",
    "current_date = pd.to_datetime('now')\n",
    "age_list = []\n",
    "\n",
    "for index, row in merged_df.iterrows():\n",
    "    dob = pd.to_datetime(row['DOB'])\n",
    "    age = (current_date - dob).days // 365  # Calculate age in years\n",
    "    age_list.append(age)\n",
    "\n",
    "merged_df['age'] = age_list\n",
    "\n",
    "# Add a column for profit \n",
    "Transactions['profit'] = Transactions['list_price'] - Transactions['standard_cost']\n",
    "Transactions.head()\n",
    "\n",
    "# Remove unnecessary columns\n",
    "columns_to_remove = ['first_name', 'last_name', 'address', 'country', 'DOB', 'deceased_indicator']\n",
    "merged_df = merged_df.drop(columns=columns_to_remove)"
   ]
  },
  {
   "cell_type": "markdown",
   "id": "a51221a1",
   "metadata": {},
   "source": [
    "Understanding the age distribution of Sprocket Central's customer base is crucial. We convert the 'DOB' (Date of Birth) column into an 'age' column by calculating the difference between the current date and each customer's birth date. This transformation allows us to analyze customer segments by age, revealing potential trends and preferences.\n",
    "\n",
    "To assess the financial contribution of each customer, we introduced a 'profit' column in the Transactions dataset. This is calculated as the difference between the 'list_price' and 'standard_cost' for each transaction.\n",
    "\n",
    "To focus on the most impactful variables, we remove less relevant columns such as 'first_name', 'last_name', 'address', 'country', 'DOB', and 'deceased_indicator'. This streamlining process ensures that our analysis is concentrated on the factors most likely to influence customer value and behavior"
   ]
  },
  {
   "cell_type": "code",
   "execution_count": 47,
   "id": "047afe45",
   "metadata": {},
   "outputs": [
    {
     "data": {
      "text/html": [
       "<div>\n",
       "<style scoped>\n",
       "    .dataframe tbody tr th:only-of-type {\n",
       "        vertical-align: middle;\n",
       "    }\n",
       "\n",
       "    .dataframe tbody tr th {\n",
       "        vertical-align: top;\n",
       "    }\n",
       "\n",
       "    .dataframe thead th {\n",
       "        text-align: right;\n",
       "    }\n",
       "</style>\n",
       "<table border=\"1\" class=\"dataframe\">\n",
       "  <thead>\n",
       "    <tr style=\"text-align: right;\">\n",
       "      <th></th>\n",
       "      <th>customer_id</th>\n",
       "      <th>gender</th>\n",
       "      <th>past_3_years_bike_related_purchases</th>\n",
       "      <th>job_title</th>\n",
       "      <th>job_industry_category</th>\n",
       "      <th>wealth_segment</th>\n",
       "      <th>owns_car</th>\n",
       "      <th>tenure</th>\n",
       "      <th>postcode</th>\n",
       "      <th>state</th>\n",
       "      <th>property_valuation</th>\n",
       "      <th>age</th>\n",
       "      <th>total_profit</th>\n",
       "    </tr>\n",
       "  </thead>\n",
       "  <tbody>\n",
       "    <tr>\n",
       "      <th>0</th>\n",
       "      <td>1</td>\n",
       "      <td>Female</td>\n",
       "      <td>93</td>\n",
       "      <td>Executive Secretary</td>\n",
       "      <td>Health</td>\n",
       "      <td>Mass Customer</td>\n",
       "      <td>Yes</td>\n",
       "      <td>11.0</td>\n",
       "      <td>2016</td>\n",
       "      <td>NSW</td>\n",
       "      <td>10</td>\n",
       "      <td>70</td>\n",
       "      <td>3018.09</td>\n",
       "    </tr>\n",
       "    <tr>\n",
       "      <th>1</th>\n",
       "      <td>2</td>\n",
       "      <td>Male</td>\n",
       "      <td>81</td>\n",
       "      <td>Administrative Officer</td>\n",
       "      <td>Financial Services</td>\n",
       "      <td>Mass Customer</td>\n",
       "      <td>Yes</td>\n",
       "      <td>16.0</td>\n",
       "      <td>2153</td>\n",
       "      <td>NSW</td>\n",
       "      <td>10</td>\n",
       "      <td>43</td>\n",
       "      <td>2226.26</td>\n",
       "    </tr>\n",
       "    <tr>\n",
       "      <th>2</th>\n",
       "      <td>4</td>\n",
       "      <td>Male</td>\n",
       "      <td>33</td>\n",
       "      <td>Internal Auditor</td>\n",
       "      <td>IT</td>\n",
       "      <td>Mass Customer</td>\n",
       "      <td>No</td>\n",
       "      <td>7.0</td>\n",
       "      <td>4211</td>\n",
       "      <td>QLD</td>\n",
       "      <td>9</td>\n",
       "      <td>62</td>\n",
       "      <td>220.57</td>\n",
       "    </tr>\n",
       "    <tr>\n",
       "      <th>3</th>\n",
       "      <td>5</td>\n",
       "      <td>Female</td>\n",
       "      <td>56</td>\n",
       "      <td>Senior Editor</td>\n",
       "      <td>Retail</td>\n",
       "      <td>Affluent Customer</td>\n",
       "      <td>Yes</td>\n",
       "      <td>8.0</td>\n",
       "      <td>2448</td>\n",
       "      <td>NSW</td>\n",
       "      <td>4</td>\n",
       "      <td>46</td>\n",
       "      <td>2394.94</td>\n",
       "    </tr>\n",
       "    <tr>\n",
       "      <th>4</th>\n",
       "      <td>6</td>\n",
       "      <td>Male</td>\n",
       "      <td>35</td>\n",
       "      <td>Sales Representative</td>\n",
       "      <td>Retail</td>\n",
       "      <td>High Net Worth</td>\n",
       "      <td>Yes</td>\n",
       "      <td>13.0</td>\n",
       "      <td>3216</td>\n",
       "      <td>VIC</td>\n",
       "      <td>9</td>\n",
       "      <td>57</td>\n",
       "      <td>3946.55</td>\n",
       "    </tr>\n",
       "  </tbody>\n",
       "</table>\n",
       "</div>"
      ],
      "text/plain": [
       "   customer_id  gender  past_3_years_bike_related_purchases  \\\n",
       "0            1  Female                                   93   \n",
       "1            2    Male                                   81   \n",
       "2            4    Male                                   33   \n",
       "3            5  Female                                   56   \n",
       "4            6    Male                                   35   \n",
       "\n",
       "                job_title job_industry_category     wealth_segment owns_car  \\\n",
       "0     Executive Secretary                Health      Mass Customer      Yes   \n",
       "1  Administrative Officer    Financial Services      Mass Customer      Yes   \n",
       "2        Internal Auditor                    IT      Mass Customer       No   \n",
       "3           Senior Editor                Retail  Affluent Customer      Yes   \n",
       "4    Sales Representative                Retail     High Net Worth      Yes   \n",
       "\n",
       "   tenure  postcode state  property_valuation  age  total_profit  \n",
       "0    11.0      2016   NSW                  10   70       3018.09  \n",
       "1    16.0      2153   NSW                  10   43       2226.26  \n",
       "2     7.0      4211   QLD                   9   62        220.57  \n",
       "3     8.0      2448   NSW                   4   46       2394.94  \n",
       "4    13.0      3216   VIC                   9   57       3946.55  "
      ]
     },
     "execution_count": 47,
     "metadata": {},
     "output_type": "execute_result"
    }
   ],
   "source": [
    "# Group by 'customer_id' and calculate multiple aggregations\n",
    "agg_dict = {\n",
    "    'profit': 'sum',\n",
    "}\n",
    "\n",
    "customer_profit_df = Transactions.groupby('customer_id').agg(agg_dict).reset_index()\n",
    "customer_profit_df.columns = ['customer_id', 'total_profit']\n",
    "\n",
    "merged_df = merged_df.merge(customer_profit_df, on = 'customer_id')\n",
    "# merged_df.to_csv('data/final_df.csv', index=False)\n",
    "# Transactions.to_csv('data/transactions.csv', index=False)\n",
    "merged_df.head()"
   ]
  },
  {
   "cell_type": "markdown",
   "id": "ad523160",
   "metadata": {},
   "source": [
    "We aggregate the Transactions data at the customer level to summarize each customer's total profit generated. This aggregation provides a clear view of customer engagement and financial contribution. By integrating this transaction summary with the merged demographic and address data, we establish a robust dataset for subsequent analysis.\n",
    "\n",
    "Now we have a rich dataset that combines demographic, geographic, and transactional insights. By applying analytical models to this dataset, we aim to uncover the defining characteristics and behaviors of Sprocket Central's most valuable customers. These insights will be instrumental in guiding targeted marketing strategies, ensuring that efforts are concentrated on engaging leads with the highest potential for conversion and long-term value addition."
   ]
  },
  {
   "cell_type": "markdown",
   "id": "0a829e14",
   "metadata": {},
   "source": [
    "# Data Insights\n",
    "\n",
    "In this section, we'll use the data to extract key insights. We aim to unveil the patterns and trends that define the value and behavior of customers, leveraging this understanding to identify those with the highest potential for future transactions. These insights will inform targeted marketing strategies, driving growth by focusing on the most promising customer segments.\n",
    "\n",
    "The insights have been generated using Tableau, which has allowed for an interactive and dynamic exploration of Sprocket Central Pty Ltd's customer data. The resulting patterns and trends unearthed through this analysis are crucial in identifying high-potential customer segments for targeted marketing strategies. You can view the detailed dashboards by following this [Tableau Dashboard](https://public.tableau.com/views/SprocketCentralAnalysis_16999690683590/StrategicCustomerTargeting?:language=en-GB&publish=yes&:sid=&:display_count=n&:origin=viz_share_link). The visualizations below display our insights derived from the data."
   ]
  },
  {
   "cell_type": "markdown",
   "id": "c876d20b",
   "metadata": {},
   "source": [
    "<img src=\"Profit Insights Overview.png\"/>\n",
    "\n",
    "The \"Profit Insights Overview\" dashboard presents a detailed breakdown of Sprocket Central Pty Ltd's customer data, offering a visualization of the profit distribution across various customer segments.\n",
    "\n",
    "### Gender Distribution\n",
    "The profit generated by male and female customers is nearly balanced, indicating gender neutrality in spending:\n",
    "\n",
    "- **Male**: 51.205%\n",
    "- **Female**: 48.795%\n",
    "\n",
    "### Profit Trends Across Age Groups\n",
    "Profitability increases with customer age, highlighting the value of the older demographic:\n",
    "\n",
    "- **21-30**: Lower profit generation\n",
    "- **31-40**: Moderate profit generation\n",
    "- **41-50 & 50+**: Highest profit generation, indicating that targeting older age groups may yield higher returns.\n",
    "\n",
    "### Revenue Distribution Across Wealth Segments\n",
    "Analysis of wealth segments reveals a strategic insight into where the majority of the profits are sourced:\n",
    "\n",
    "- **Affluent Customer**: Substantial contribution to profit\n",
    "- **High Net Worth**: Significant profit but fewer individuals\n",
    "- **Mass Customer**: The largest profit source, suggesting that volume plays a crucial role.\n",
    "\n",
    "### Profit Distribution Across Job Industries\n",
    "The distribution of profit across job industries indicates which sectors are more lucrative:\n",
    "\n",
    "- **Finance**: Leading in profit contribution, a key industry to target.\n",
    "- **Health**: Moderate contribution, potentially a steady market.\n",
    "- **Manufacturing**: Second to Finance, indicating a high-value customer base.\n",
    "\n",
    "These insights can guide Sprocket Central Pty Ltd in crafting targeted marketing strategies that focus on the most profitable customer segments, specifically older demographics and professionals in Finance and Manufacturing sectors.\n"
   ]
  },
  {
   "cell_type": "markdown",
   "id": "142fa64d",
   "metadata": {},
   "source": [
    "<img src=\"Strategic Revenue Insights.png\"/>\n",
    "\n",
    "This section explores the key revenue-generating factors from Sprocket Central Pty Ltd's customer data, revealing strategic insights that could inform future marketing and sales efforts.\n",
    "\n",
    "### Insights on Purchase Frequency\n",
    "- **High-Frequency Purchasers**: Customers with over **50+ bike-related purchases** in the past three years are responsible for a significant **48.33%** of the total profit.\n",
    "- **Mid-Frequency Purchasers**: Those with **11-30** and **31-50 purchases** account for **20.80%** and **20.62%** of the profit, respectively, suggesting a strong positive correlation between purchase frequency and profit.\n",
    "\n",
    "### Geographic Revenue Insights\n",
    "- **Top Earning Postcodes**: Postcode **02153** leads with revenue above **\\\\$80K**. Other top postcodes like **02170**, **02763**, and **02065** each contribute over **\\\\$40K**, pointing to the importance of geographic targeting.\n",
    "\n",
    "### Revenue Distribution by State\n",
    "- **State Revenue Leaders**: **NSW** tops the revenue chart with **\\\\$5.35M**, followed by **VIC** at **\\\\$2.58M**, and **QLD** at **\\\\$2.15M**. These figures highlight regional differences in spending power and potential.\n",
    "\n",
    "### Customer Tenure and Property Investment\n",
    "- **Tenure and Valuation as Profit Indicators**: Customers with tenures of **7 and 11 years** and property valuations of **8 and 9** stand out as high-profit groups. This suggests that fostering long-term relationships and understanding property investment levels can be lucrative.\n",
    "\n",
    "These strategic insights can be instrumental for Sprocket Central Pty Ltd in refining their targeting strategy to focus on high-frequency purchasers, key geographic areas, and long-term customers with significant property investments to maximize revenue generation.\n"
   ]
  },
  {
   "cell_type": "markdown",
   "id": "d0470592",
   "metadata": {},
   "source": [
    "# Predicting Top Potential Customers\n",
    "\n",
    "The valuable insights derived from Sprocket Central Pty Ltd's existing customer data set the stage for a strategic approach to identifying potential high-value customers in the new dataset. Here’s how we intend to utilize these insights:\n",
    "\n",
    "- **Prioritizing Frequent Purchasers**: We will look for patterns in the new dataset that resemble the high purchase frequency of past customers, especially those with over 50 bike-related purchases, as they are associated with a substantial profit margin.\n",
    "\n",
    "- **Geographical Targeting**: By analyzing the geographical data of the new customers, we will prioritize outreach to those in the top-performing postcodes and states.\n",
    "\n",
    "- **Leveraging Tenure and Valuation**: For the new customers who are property owners, we will assess their property valuation as a proxy for investment potential. Combined with any available data on customer engagement or related interests, we can infer the likelihood of higher profitability.\n",
    "\n",
    "- **Profiling Based on Age and Wealth Segments**: The new dataset will be segmented to focus on the older demographics and wealth segments that have shown higher profitability, aligning marketing efforts with the most lucrative customer profiles.\n",
    "\n",
    "By applying these focused strategies to the new dataset, we can effectively single out individuals who not only have the potential to become high-value customers but also resemble our current top-performing customer segments. This targeted approach aims to expand the customer base strategically while ensuring resource allocation is optimized for maximum return on investment.\n"
   ]
  },
  {
   "cell_type": "code",
   "execution_count": 48,
   "id": "bf65a4d6",
   "metadata": {},
   "outputs": [
    {
     "data": {
      "text/html": [
       "<div>\n",
       "<style scoped>\n",
       "    .dataframe tbody tr th:only-of-type {\n",
       "        vertical-align: middle;\n",
       "    }\n",
       "\n",
       "    .dataframe tbody tr th {\n",
       "        vertical-align: top;\n",
       "    }\n",
       "\n",
       "    .dataframe thead th {\n",
       "        text-align: right;\n",
       "    }\n",
       "</style>\n",
       "<table border=\"1\" class=\"dataframe\">\n",
       "  <thead>\n",
       "    <tr style=\"text-align: right;\">\n",
       "      <th></th>\n",
       "      <th>first_name</th>\n",
       "      <th>last_name</th>\n",
       "      <th>gender</th>\n",
       "      <th>past_3_years_bike_related_purchases</th>\n",
       "      <th>DOB</th>\n",
       "      <th>job_title</th>\n",
       "      <th>job_industry_category</th>\n",
       "      <th>wealth_segment</th>\n",
       "      <th>deceased_indicator</th>\n",
       "      <th>owns_car</th>\n",
       "      <th>...</th>\n",
       "      <th>state</th>\n",
       "      <th>country</th>\n",
       "      <th>property_valuation</th>\n",
       "      <th>Unnamed: 16</th>\n",
       "      <th>Unnamed: 17</th>\n",
       "      <th>Unnamed: 18</th>\n",
       "      <th>Unnamed: 19</th>\n",
       "      <th>Unnamed: 20</th>\n",
       "      <th>Rank</th>\n",
       "      <th>Value</th>\n",
       "    </tr>\n",
       "  </thead>\n",
       "  <tbody>\n",
       "    <tr>\n",
       "      <th>0</th>\n",
       "      <td>Chickie</td>\n",
       "      <td>Brister</td>\n",
       "      <td>Male</td>\n",
       "      <td>86</td>\n",
       "      <td>1957-07-12</td>\n",
       "      <td>General Manager</td>\n",
       "      <td>Manufacturing</td>\n",
       "      <td>Mass Customer</td>\n",
       "      <td>N</td>\n",
       "      <td>Yes</td>\n",
       "      <td>...</td>\n",
       "      <td>QLD</td>\n",
       "      <td>Australia</td>\n",
       "      <td>6</td>\n",
       "      <td>0.53</td>\n",
       "      <td>0.6625</td>\n",
       "      <td>0.828125</td>\n",
       "      <td>0.703906</td>\n",
       "      <td>1</td>\n",
       "      <td>1</td>\n",
       "      <td>1.718750</td>\n",
       "    </tr>\n",
       "    <tr>\n",
       "      <th>1</th>\n",
       "      <td>Morly</td>\n",
       "      <td>Genery</td>\n",
       "      <td>Male</td>\n",
       "      <td>69</td>\n",
       "      <td>1970-03-22</td>\n",
       "      <td>Structural Engineer</td>\n",
       "      <td>Property</td>\n",
       "      <td>Mass Customer</td>\n",
       "      <td>N</td>\n",
       "      <td>No</td>\n",
       "      <td>...</td>\n",
       "      <td>NSW</td>\n",
       "      <td>Australia</td>\n",
       "      <td>11</td>\n",
       "      <td>1.00</td>\n",
       "      <td>1.0000</td>\n",
       "      <td>1.250000</td>\n",
       "      <td>1.062500</td>\n",
       "      <td>1</td>\n",
       "      <td>1</td>\n",
       "      <td>1.718750</td>\n",
       "    </tr>\n",
       "    <tr>\n",
       "      <th>2</th>\n",
       "      <td>Ardelis</td>\n",
       "      <td>Forrester</td>\n",
       "      <td>Female</td>\n",
       "      <td>10</td>\n",
       "      <td>1974-08-28 00:00:00</td>\n",
       "      <td>Senior Cost Accountant</td>\n",
       "      <td>Financial Services</td>\n",
       "      <td>Affluent Customer</td>\n",
       "      <td>N</td>\n",
       "      <td>No</td>\n",
       "      <td>...</td>\n",
       "      <td>VIC</td>\n",
       "      <td>Australia</td>\n",
       "      <td>5</td>\n",
       "      <td>1.05</td>\n",
       "      <td>1.0500</td>\n",
       "      <td>1.050000</td>\n",
       "      <td>1.050000</td>\n",
       "      <td>1</td>\n",
       "      <td>1</td>\n",
       "      <td>1.718750</td>\n",
       "    </tr>\n",
       "    <tr>\n",
       "      <th>3</th>\n",
       "      <td>Lucine</td>\n",
       "      <td>Stutt</td>\n",
       "      <td>Female</td>\n",
       "      <td>64</td>\n",
       "      <td>1979-01-28</td>\n",
       "      <td>Account Representative III</td>\n",
       "      <td>Manufacturing</td>\n",
       "      <td>Affluent Customer</td>\n",
       "      <td>N</td>\n",
       "      <td>Yes</td>\n",
       "      <td>...</td>\n",
       "      <td>QLD</td>\n",
       "      <td>Australia</td>\n",
       "      <td>1</td>\n",
       "      <td>0.60</td>\n",
       "      <td>0.7500</td>\n",
       "      <td>0.750000</td>\n",
       "      <td>0.750000</td>\n",
       "      <td>4</td>\n",
       "      <td>4</td>\n",
       "      <td>1.703125</td>\n",
       "    </tr>\n",
       "    <tr>\n",
       "      <th>4</th>\n",
       "      <td>Melinda</td>\n",
       "      <td>Hadlee</td>\n",
       "      <td>Female</td>\n",
       "      <td>34</td>\n",
       "      <td>1965-09-21</td>\n",
       "      <td>Financial Analyst</td>\n",
       "      <td>Financial Services</td>\n",
       "      <td>Affluent Customer</td>\n",
       "      <td>N</td>\n",
       "      <td>No</td>\n",
       "      <td>...</td>\n",
       "      <td>NSW</td>\n",
       "      <td>Australia</td>\n",
       "      <td>9</td>\n",
       "      <td>1.07</td>\n",
       "      <td>1.0700</td>\n",
       "      <td>1.337500</td>\n",
       "      <td>1.337500</td>\n",
       "      <td>4</td>\n",
       "      <td>4</td>\n",
       "      <td>1.703125</td>\n",
       "    </tr>\n",
       "  </tbody>\n",
       "</table>\n",
       "<p>5 rows × 23 columns</p>\n",
       "</div>"
      ],
      "text/plain": [
       "  first_name  last_name  gender  past_3_years_bike_related_purchases  \\\n",
       "0    Chickie    Brister    Male                                   86   \n",
       "1      Morly     Genery    Male                                   69   \n",
       "2    Ardelis  Forrester  Female                                   10   \n",
       "3     Lucine      Stutt  Female                                   64   \n",
       "4    Melinda     Hadlee  Female                                   34   \n",
       "\n",
       "                   DOB                   job_title job_industry_category  \\\n",
       "0           1957-07-12             General Manager         Manufacturing   \n",
       "1           1970-03-22         Structural Engineer              Property   \n",
       "2  1974-08-28 00:00:00      Senior Cost Accountant    Financial Services   \n",
       "3           1979-01-28  Account Representative III         Manufacturing   \n",
       "4           1965-09-21           Financial Analyst    Financial Services   \n",
       "\n",
       "      wealth_segment deceased_indicator owns_car  ...  state    country  \\\n",
       "0      Mass Customer                  N      Yes  ...    QLD  Australia   \n",
       "1      Mass Customer                  N       No  ...    NSW  Australia   \n",
       "2  Affluent Customer                  N       No  ...    VIC  Australia   \n",
       "3  Affluent Customer                  N      Yes  ...    QLD  Australia   \n",
       "4  Affluent Customer                  N       No  ...    NSW  Australia   \n",
       "\n",
       "   property_valuation Unnamed: 16 Unnamed: 17  Unnamed: 18  Unnamed: 19  \\\n",
       "0                   6        0.53      0.6625     0.828125     0.703906   \n",
       "1                  11        1.00      1.0000     1.250000     1.062500   \n",
       "2                   5        1.05      1.0500     1.050000     1.050000   \n",
       "3                   1        0.60      0.7500     0.750000     0.750000   \n",
       "4                   9        1.07      1.0700     1.337500     1.337500   \n",
       "\n",
       "   Unnamed: 20  Rank     Value  \n",
       "0            1     1  1.718750  \n",
       "1            1     1  1.718750  \n",
       "2            1     1  1.718750  \n",
       "3            4     4  1.703125  \n",
       "4            4     4  1.703125  \n",
       "\n",
       "[5 rows x 23 columns]"
      ]
     },
     "execution_count": 48,
     "metadata": {},
     "output_type": "execute_result"
    }
   ],
   "source": [
    "new_customers = pd.read_excel('data/KPMG_VI_New_raw_data_update_final.xlsx', \n",
    "                                    sheet_name='NewCustomerList',\n",
    "                                    skiprows=1) \n",
    "new_customers.head()\n"
   ]
  },
  {
   "cell_type": "code",
   "execution_count": 49,
   "id": "cbb049ce",
   "metadata": {},
   "outputs": [],
   "source": [
    "# Convert DOB to Age\n",
    "current_date = pd.to_datetime('now')\n",
    "age_list = []\n",
    "\n",
    "for index, row in new_customers.iterrows():\n",
    "    dob = pd.to_datetime(row['DOB'])\n",
    "    age = (current_date - dob).days // 365  # Calculate age in years\n",
    "    age_list.append(age)\n",
    "\n",
    "new_customers['age'] = age_list"
   ]
  },
  {
   "cell_type": "markdown",
   "id": "60c0ecd5",
   "metadata": {},
   "source": [
    "## Customer Scoring System\n",
    "\n",
    "We will create a scoring system developed to evaluate the potential value of new customers based on the insights from existing customer datset. \n",
    "\n",
    "- **Bike Purchase Weight**: \n",
    "  - `50+ purchases`: Weight of `5`. *High engagement and potential value.*\n",
    "  - `11-49 purchases`: Weight of `2`. *Consistent patronage.*\n",
    "  - `0-10 purchases`: Weight of `1`. *Occasional shoppers.*\n",
    "\n",
    "- **Property Valuation Weight**:\n",
    "  - `Valuation 8 & 9`: Highest weight of `5`. *Correlates with high profitability.*\n",
    "  - `Valuation 7 & 10`: Moderate weight of `3`. *Above-average profitability.*\n",
    "  - `Valuation 6, 4, 5, 11, & 12`: Lower weight of `2`. *Significant but lesser impact.*\n",
    "\n",
    "- **State Weight**:\n",
    "  - `NSW`: Highest weight of `5`. *Top contributor to revenue.*\n",
    "  - `VIC`: Weight of `2.5`. *Significant contribution.*\n",
    "  - `QLD`: Weight of `2`. *Notable contribution.*\n",
    "\n",
    "- **Age Weight**:\n",
    "  - `50+ years`: Highest weight of `5`. *High-value mature customers.*\n",
    "  - `40-49 years`: Weight of `4.5`. *Growing profitability with age.*\n",
    "  - `30-39 years`: Weight of `2.5`. *Potential for future growth.*\n",
    "  - `Under 30 years`: Weight of `2`. *Emerging customer base.*\n",
    "\n",
    "- **Wealth Segment Weight**:\n",
    "  - `Mass Customer`: Highest weight of `5`. *Major profit contributors.*\n",
    "  - `Affluent Customer` & `High Net Worth`: Weight of `3`. *Substantial contributions.*\n",
    "\n",
    "- **Industry Weight**:\n",
    "  - `Financial Services` & `Manufacturing`: Highest weight of `5`. *Leaders in profit generation.*\n",
    "  - `Health`: Weight of `4`. *Stable market segment.*\n",
    "  - `Retail` & `Property`: Weight of `2`. *Smaller, impactful contribution.*\n",
    "\n",
    "- **Overall Potential Value Score**:\n",
    "  - A composite score that combines all individual weights to assess each customer's potential value.\n",
    "\n",
    "- **Sorting for Targeting**:\n",
    "  - Customers are ranked by their potential value score in descending order to prioritize marketing efforts.\n"
   ]
  },
  {
   "cell_type": "code",
   "execution_count": 50,
   "id": "c480a8c7",
   "metadata": {},
   "outputs": [
    {
     "data": {
      "text/html": [
       "<div>\n",
       "<style scoped>\n",
       "    .dataframe tbody tr th:only-of-type {\n",
       "        vertical-align: middle;\n",
       "    }\n",
       "\n",
       "    .dataframe tbody tr th {\n",
       "        vertical-align: top;\n",
       "    }\n",
       "\n",
       "    .dataframe thead th {\n",
       "        text-align: right;\n",
       "    }\n",
       "</style>\n",
       "<table border=\"1\" class=\"dataframe\">\n",
       "  <thead>\n",
       "    <tr style=\"text-align: right;\">\n",
       "      <th></th>\n",
       "      <th>first_name</th>\n",
       "      <th>last_name</th>\n",
       "      <th>gender</th>\n",
       "      <th>age</th>\n",
       "      <th>past_3_years_bike_related_purchases</th>\n",
       "      <th>job_industry_category</th>\n",
       "      <th>wealth_segment</th>\n",
       "      <th>state</th>\n",
       "    </tr>\n",
       "  </thead>\n",
       "  <tbody>\n",
       "    <tr>\n",
       "      <th>177</th>\n",
       "      <td>Omero</td>\n",
       "      <td>McDonand</td>\n",
       "      <td>Male</td>\n",
       "      <td>71.0</td>\n",
       "      <td>51</td>\n",
       "      <td>Manufacturing</td>\n",
       "      <td>Mass Customer</td>\n",
       "      <td>NSW</td>\n",
       "    </tr>\n",
       "    <tr>\n",
       "      <th>146</th>\n",
       "      <td>Tyne</td>\n",
       "      <td>Coate</td>\n",
       "      <td>Female</td>\n",
       "      <td>58.0</td>\n",
       "      <td>82</td>\n",
       "      <td>Manufacturing</td>\n",
       "      <td>Mass Customer</td>\n",
       "      <td>NSW</td>\n",
       "    </tr>\n",
       "    <tr>\n",
       "      <th>424</th>\n",
       "      <td>Cheston</td>\n",
       "      <td>Hritzko</td>\n",
       "      <td>Male</td>\n",
       "      <td>78.0</td>\n",
       "      <td>70</td>\n",
       "      <td>Manufacturing</td>\n",
       "      <td>Mass Customer</td>\n",
       "      <td>NSW</td>\n",
       "    </tr>\n",
       "    <tr>\n",
       "      <th>412</th>\n",
       "      <td>Hilliard</td>\n",
       "      <td>Dullard</td>\n",
       "      <td>Male</td>\n",
       "      <td>69.0</td>\n",
       "      <td>65</td>\n",
       "      <td>Manufacturing</td>\n",
       "      <td>Mass Customer</td>\n",
       "      <td>NSW</td>\n",
       "    </tr>\n",
       "    <tr>\n",
       "      <th>366</th>\n",
       "      <td>Daisi</td>\n",
       "      <td>Tinwell</td>\n",
       "      <td>Female</td>\n",
       "      <td>52.0</td>\n",
       "      <td>84</td>\n",
       "      <td>Financial Services</td>\n",
       "      <td>Mass Customer</td>\n",
       "      <td>NSW</td>\n",
       "    </tr>\n",
       "    <tr>\n",
       "      <th>335</th>\n",
       "      <td>Haskell</td>\n",
       "      <td>Moxted</td>\n",
       "      <td>Male</td>\n",
       "      <td>80.0</td>\n",
       "      <td>81</td>\n",
       "      <td>Manufacturing</td>\n",
       "      <td>Mass Customer</td>\n",
       "      <td>NSW</td>\n",
       "    </tr>\n",
       "    <tr>\n",
       "      <th>570</th>\n",
       "      <td>Karol</td>\n",
       "      <td>Salthouse</td>\n",
       "      <td>Female</td>\n",
       "      <td>55.0</td>\n",
       "      <td>53</td>\n",
       "      <td>Financial Services</td>\n",
       "      <td>Mass Customer</td>\n",
       "      <td>NSW</td>\n",
       "    </tr>\n",
       "    <tr>\n",
       "      <th>606</th>\n",
       "      <td>Maximilian</td>\n",
       "      <td>Geffen</td>\n",
       "      <td>Male</td>\n",
       "      <td>68.0</td>\n",
       "      <td>96</td>\n",
       "      <td>Manufacturing</td>\n",
       "      <td>Mass Customer</td>\n",
       "      <td>NSW</td>\n",
       "    </tr>\n",
       "    <tr>\n",
       "      <th>231</th>\n",
       "      <td>Danny</td>\n",
       "      <td>Bodle</td>\n",
       "      <td>Male</td>\n",
       "      <td>80.0</td>\n",
       "      <td>50</td>\n",
       "      <td>Manufacturing</td>\n",
       "      <td>Mass Customer</td>\n",
       "      <td>NSW</td>\n",
       "    </tr>\n",
       "    <tr>\n",
       "      <th>719</th>\n",
       "      <td>Inglebert</td>\n",
       "      <td>Butland</td>\n",
       "      <td>Male</td>\n",
       "      <td>58.0</td>\n",
       "      <td>71</td>\n",
       "      <td>Financial Services</td>\n",
       "      <td>Mass Customer</td>\n",
       "      <td>NSW</td>\n",
       "    </tr>\n",
       "  </tbody>\n",
       "</table>\n",
       "</div>"
      ],
      "text/plain": [
       "     first_name  last_name  gender   age  past_3_years_bike_related_purchases  \\\n",
       "177       Omero   McDonand    Male  71.0                                   51   \n",
       "146        Tyne      Coate  Female  58.0                                   82   \n",
       "424     Cheston    Hritzko    Male  78.0                                   70   \n",
       "412    Hilliard    Dullard    Male  69.0                                   65   \n",
       "366       Daisi    Tinwell  Female  52.0                                   84   \n",
       "335     Haskell     Moxted    Male  80.0                                   81   \n",
       "570       Karol  Salthouse  Female  55.0                                   53   \n",
       "606  Maximilian     Geffen    Male  68.0                                   96   \n",
       "231       Danny      Bodle    Male  80.0                                   50   \n",
       "719   Inglebert    Butland    Male  58.0                                   71   \n",
       "\n",
       "    job_industry_category wealth_segment state  \n",
       "177         Manufacturing  Mass Customer   NSW  \n",
       "146         Manufacturing  Mass Customer   NSW  \n",
       "424         Manufacturing  Mass Customer   NSW  \n",
       "412         Manufacturing  Mass Customer   NSW  \n",
       "366    Financial Services  Mass Customer   NSW  \n",
       "335         Manufacturing  Mass Customer   NSW  \n",
       "570    Financial Services  Mass Customer   NSW  \n",
       "606         Manufacturing  Mass Customer   NSW  \n",
       "231         Manufacturing  Mass Customer   NSW  \n",
       "719    Financial Services  Mass Customer   NSW  "
      ]
     },
     "execution_count": 50,
     "metadata": {},
     "output_type": "execute_result"
    }
   ],
   "source": [
    "# Define a function to determine the weight based on bike purchases\n",
    "def get_bike_purchase_weight(purchases):\n",
    "    if purchases >= 50:\n",
    "        return 5\n",
    "    elif purchases >= 11:\n",
    "        return 2\n",
    "    else:\n",
    "        return 1\n",
    "\n",
    "# Apply the function to the 'past_3_years_bike_related_purchases' column\n",
    "new_customers['bike_purchase_weight'] = new_customers['past_3_years_bike_related_purchases'].apply(get_bike_purchase_weight)\n",
    "\n",
    "\n",
    "# Define the weights for tenure and property valuation (hypothetical example)\n",
    "property_valuation_weights = {8: 5, 9: 5, 7: 3, 10: 3, \n",
    "                              6: 2, 4: 2, 5: 2, 11: 2, \n",
    "                              12: 2} # High profit for property valuation 8 and 9\n",
    "\n",
    "\n",
    "def get_property_valuation_weight(property_valuation):\n",
    "    return property_valuation_weights.get(property_valuation, 1)\n",
    "\n",
    "# Apply the functions to the respective columns\n",
    "new_customers['property_valuation_weight'] = new_customers['property_valuation'].apply(get_property_valuation_weight)\n",
    "\n",
    "\n",
    "# Define the weights for State\n",
    "state_weights = {'NSW': 5, 'VIC': 2.5, 'QLD': 2}\n",
    "\n",
    "# Define the weights for age\n",
    "age_bins = [30, 40, 50]  # Bins for age groups\n",
    "age_weights = [2, 2.5, 4.5, 5]\n",
    "\n",
    "# Define the weights for wealth segment\n",
    "wealth_segment_weights = {'Mass Customer': 5, 'Affluent Customer': 3, 'High Net Worth': 3}  \n",
    "industry_weights = {'Financial Services': 5, 'Manufacturing': 5, 'Health': 4, 'Retail': 2, 'Property':2} \n",
    "\n",
    "\n",
    "\n",
    "# Update the potential value score calculation to include the new weights\n",
    "new_customers['potential_value_score'] = new_customers.apply(lambda row: row['bike_purchase_weight'] +\n",
    "                                                            state_weights.get(row['state'], 0) +\n",
    "                                                            age_weights[np.digitize(row['age'], bins=age_bins)] +\n",
    "                                                            wealth_segment_weights.get(row['wealth_segment'], 0) +\n",
    "                                                            industry_weights.get(row['job_industry_category'], 1) +\n",
    "#                                                             row['postcode_weight'] +\n",
    "                                                            row['property_valuation_weight'],\n",
    "                                                            axis=1)\n",
    "\n",
    "# Sort and display the top 10 customers with the highest potential value scores\n",
    "new_customers.sort_values(by='potential_value_score', ascending=False, inplace=True)\n",
    "\n",
    "new_customers[['first_name', 'last_name', 'gender', 'age', 'past_3_years_bike_related_purchases', \n",
    "               'job_industry_category', 'wealth_segment', 'state']].head(10)"
   ]
  },
  {
   "cell_type": "code",
   "execution_count": 51,
   "id": "da01b248",
   "metadata": {},
   "outputs": [],
   "source": [
    "new_customers[['first_name', 'last_name', 'gender', 'age', 'past_3_years_bike_related_purchases', \n",
    "               'job_industry_category', 'wealth_segment', 'state']].head(10).to_csv('new_customers.csv')\n"
   ]
  },
  {
   "cell_type": "markdown",
   "id": "bd127fe3",
   "metadata": {},
   "source": [
    "# Conclusion\n",
    "\n",
    "The comprehensive data cleaning and analysis conducted on the datasets provided by Sprocket Central Pty Ltd have successfully enhanced the quality and reliability of the data. This meticulous process has laid a solid foundation for in-depth analysis and insightful decision-making. Here are the key takeaways and the resultant strategic direction for Sprocket Central Pty Ltd:\n",
    "\n",
    "### Data Cleaning and Preparation\n",
    "\n",
    "- **Customer Demographic**: Corrected data inconsistencies, imputed missing values, and standardized date formats have resulted in a dataset ready for precise segmentation and profiling.\n",
    "  \n",
    "- **Customer Address**: Standardization of state fields and verification of postcode accuracy ensure that geographical data supports targeted marketing initiatives.\n",
    "  \n",
    "- **Transactions**: By focusing on actual sales data and validating the authenticity of outliers, the transactions dataset is now an accurate reflection of customer purchasing behavior.\n",
    "\n",
    "### Strategic Application of Insights\n",
    "\n",
    "Our analysis has identified a segment of customers who demonstrate high engagement and a history of profitability. Their defining characteristics include:\n",
    "\n",
    "- **Engagement**: High frequency of bike-related purchases signals strong customer interest and potential for ongoing engagement.\n",
    "- **Industry and Wealth**: Predominantly involved in Manufacturing and Financial Services and categorized within the 'Mass Customer' wealth segment.\n",
    "- **Demographics**: A trend towards an older demographic suggests higher spending power and profitability.\n",
    "- **Geography**: A significant number of these high-potential customers are based in New South Wales, a top-performing region in terms of revenue.\n",
    "\n",
    "With these insights, Sprocket Central Pty Ltd is equipped to deploy targeted marketing strategies that promise higher conversion rates and customer retention. By focusing on this identified high-value customer segment, the company can ensure that marketing resources are invested where they are most likely to yield a substantial return. In sum, this project has not only clarified the profile of high-value targets but has also provided Sprocket Central Pty Ltd with actionable insights to navigate the competitive marketplace effectively. The data-led approach adopted here promises to foster strong customer relationships and drive the company's growth and market presence.\n"
   ]
  }
 ],
 "metadata": {
  "kernelspec": {
   "display_name": "Python 3 (ipykernel)",
   "language": "python",
   "name": "python3"
  },
  "language_info": {
   "codemirror_mode": {
    "name": "ipython",
    "version": 3
   },
   "file_extension": ".py",
   "mimetype": "text/x-python",
   "name": "python",
   "nbconvert_exporter": "python",
   "pygments_lexer": "ipython3",
   "version": "3.9.16"
  }
 },
 "nbformat": 4,
 "nbformat_minor": 5
}
